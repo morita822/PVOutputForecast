{
 "cells": [
  {
   "cell_type": "code",
   "execution_count": 1,
   "metadata": {},
   "outputs": [],
   "source": [
    "import pandas as pd\n",
    "import numpy as np\n",
    "from datetime import datetime, timedelta\n",
    "import os\n",
    "import lightgbm as lgb\n",
    "import torch\n",
    "import random\n",
    "\n",
    "import utils"
   ]
  },
  {
   "cell_type": "code",
   "execution_count": 2,
   "metadata": {},
   "outputs": [],
   "source": [
    "class CFG:\n",
    "    make_folder = True\n",
    "    note_num = \"StackingOpt/EDA006\"\n",
    "    seed = 42\n",
    "\n",
    "\n",
    "OUTPUT_DIR = f'H:/study/output/{CFG.note_num}/'\n",
    "\n",
    "if CFG.make_folder:\n",
    "    if not os.path.exists(OUTPUT_DIR):\n",
    "        os.makedirs(OUTPUT_DIR)\n"
   ]
  },
  {
   "attachments": {},
   "cell_type": "markdown",
   "metadata": {},
   "source": [
    "# id_all_data の　\"observed_max\"　を修正する"
   ]
  },
  {
   "cell_type": "code",
   "execution_count": 12,
   "metadata": {},
   "outputs": [],
   "source": [
    "id_all_data = pd.read_csv(\"H:\\study\\preprocessing_data\\id_all_data.csv\",encoding='shift_jis')"
   ]
  },
  {
   "cell_type": "code",
   "execution_count": 37,
   "metadata": {},
   "outputs": [],
   "source": [
    "def get_all_files_in_directory(directory_path):\n",
    "    file_list = []\n",
    "    for root, dirs, files in os.walk(directory_path):\n",
    "        for file in files:\n",
    "            file_list.append(os.path.join(root, file))\n",
    "    return file_list\n",
    "\n",
    "directory_path = r'H:\\study\\preprocessing_data\\1_twoweeks_nv'\n",
    "all_files = get_all_files_in_directory(directory_path)"
   ]
  },
  {
   "cell_type": "code",
   "execution_count": 38,
   "metadata": {},
   "outputs": [],
   "source": [
    "id_max_gene = dict()\n",
    "for file in all_files:\n",
    "    df = pd.read_csv(file, header=None, index_col=None, names=[\"year\",\"month\",\"day\",\"time\",\"flag\",\"nv\",\"twoweeksmax\"])\n",
    "    df[\"generation\"] = df[\"nv\"]*df[\"twoweeksmax\"]\n",
    "    id_max_gene[int(file.split(\"\\\\\")[-1].split(\".\")[0])] = df[\"generation\"].max()\n",
    "    #break"
   ]
  },
  {
   "cell_type": "code",
   "execution_count": 42,
   "metadata": {},
   "outputs": [],
   "source": [
    "id_all_data[\"observed_max2\"] = id_all_data[\"id\"].map(id_max_gene)"
   ]
  },
  {
   "cell_type": "code",
   "execution_count": 48,
   "metadata": {},
   "outputs": [],
   "source": [
    "id_all_data.to_csv(OUTPUT_DIR+'id_all_data.csv',index=False)"
   ]
  },
  {
   "cell_type": "code",
   "execution_count": 53,
   "metadata": {},
   "outputs": [],
   "source": [
    "id_all_data = pd.read_csv(\"H:\\study\\output\\StackingOpt\\EDA006\\id_all_data.csv\")\n"
   ]
  },
  {
   "cell_type": "code",
   "execution_count": 50,
   "metadata": {},
   "outputs": [
    {
     "name": "stdout",
     "output_type": "stream",
     "text": [
      "H:/study/output/StackingOpt/EDA006/id_all_data.csv\n"
     ]
    },
    {
     "data": {
      "text/html": [
       "<div>\n",
       "<style scoped>\n",
       "    .dataframe tbody tr th:only-of-type {\n",
       "        vertical-align: middle;\n",
       "    }\n",
       "\n",
       "    .dataframe tbody tr th {\n",
       "        vertical-align: top;\n",
       "    }\n",
       "\n",
       "    .dataframe thead th {\n",
       "        text-align: right;\n",
       "    }\n",
       "</style>\n",
       "<table border=\"1\" class=\"dataframe\">\n",
       "  <thead>\n",
       "    <tr style=\"text-align: right;\">\n",
       "      <th></th>\n",
       "      <th>id</th>\n",
       "      <th>id_lat</th>\n",
       "      <th>id_lng</th>\n",
       "      <th>id_lat_mesh</th>\n",
       "      <th>id_lng_mesh</th>\n",
       "      <th>id_prefecture</th>\n",
       "      <th>pvrate</th>\n",
       "      <th>observed_max</th>\n",
       "      <th>observed_max2</th>\n",
       "    </tr>\n",
       "  </thead>\n",
       "  <tbody>\n",
       "    <tr>\n",
       "      <th>0</th>\n",
       "      <td>6</td>\n",
       "      <td>35.81228</td>\n",
       "      <td>139.72822</td>\n",
       "      <td>35.82</td>\n",
       "      <td>139.72</td>\n",
       "      <td>埼玉県</td>\n",
       "      <td>3.42</td>\n",
       "      <td>3014.2112</td>\n",
       "      <td>NaN</td>\n",
       "    </tr>\n",
       "    <tr>\n",
       "      <th>1</th>\n",
       "      <td>9</td>\n",
       "      <td>31.92295</td>\n",
       "      <td>131.44116</td>\n",
       "      <td>31.92</td>\n",
       "      <td>131.44</td>\n",
       "      <td>宮崎県</td>\n",
       "      <td>3.00</td>\n",
       "      <td>NaN</td>\n",
       "      <td>NaN</td>\n",
       "    </tr>\n",
       "    <tr>\n",
       "      <th>2</th>\n",
       "      <td>12</td>\n",
       "      <td>35.67967</td>\n",
       "      <td>139.82913</td>\n",
       "      <td>35.68</td>\n",
       "      <td>139.82</td>\n",
       "      <td>東京都</td>\n",
       "      <td>6.02</td>\n",
       "      <td>4502.4124</td>\n",
       "      <td>NaN</td>\n",
       "    </tr>\n",
       "    <tr>\n",
       "      <th>3</th>\n",
       "      <td>14</td>\n",
       "      <td>35.09792</td>\n",
       "      <td>136.88363</td>\n",
       "      <td>35.10</td>\n",
       "      <td>136.88</td>\n",
       "      <td>愛知県</td>\n",
       "      <td>4.13</td>\n",
       "      <td>3556.2000</td>\n",
       "      <td>NaN</td>\n",
       "    </tr>\n",
       "    <tr>\n",
       "      <th>4</th>\n",
       "      <td>17</td>\n",
       "      <td>35.50329</td>\n",
       "      <td>139.69705</td>\n",
       "      <td>35.50</td>\n",
       "      <td>139.70</td>\n",
       "      <td>神奈川県</td>\n",
       "      <td>2.79</td>\n",
       "      <td>2032.7072</td>\n",
       "      <td>NaN</td>\n",
       "    </tr>\n",
       "    <tr>\n",
       "      <th>...</th>\n",
       "      <td>...</td>\n",
       "      <td>...</td>\n",
       "      <td>...</td>\n",
       "      <td>...</td>\n",
       "      <td>...</td>\n",
       "      <td>...</td>\n",
       "      <td>...</td>\n",
       "      <td>...</td>\n",
       "      <td>...</td>\n",
       "    </tr>\n",
       "    <tr>\n",
       "      <th>5092</th>\n",
       "      <td>6990000048</td>\n",
       "      <td>36.12519</td>\n",
       "      <td>140.51805</td>\n",
       "      <td>36.12</td>\n",
       "      <td>140.52</td>\n",
       "      <td>茨城県</td>\n",
       "      <td>16.50</td>\n",
       "      <td>14596.1192</td>\n",
       "      <td>14773.4</td>\n",
       "    </tr>\n",
       "    <tr>\n",
       "      <th>5093</th>\n",
       "      <td>6990000049</td>\n",
       "      <td>36.12519</td>\n",
       "      <td>140.51805</td>\n",
       "      <td>36.12</td>\n",
       "      <td>140.52</td>\n",
       "      <td>茨城県</td>\n",
       "      <td>14.83</td>\n",
       "      <td>13139.6332</td>\n",
       "      <td>13326.2</td>\n",
       "    </tr>\n",
       "    <tr>\n",
       "      <th>5094</th>\n",
       "      <td>6990000050</td>\n",
       "      <td>36.19365</td>\n",
       "      <td>140.34600</td>\n",
       "      <td>36.20</td>\n",
       "      <td>140.34</td>\n",
       "      <td>茨城県</td>\n",
       "      <td>16.24</td>\n",
       "      <td>13545.8344</td>\n",
       "      <td>13627.6</td>\n",
       "    </tr>\n",
       "    <tr>\n",
       "      <th>5095</th>\n",
       "      <td>6990000051</td>\n",
       "      <td>36.19365</td>\n",
       "      <td>140.34600</td>\n",
       "      <td>36.20</td>\n",
       "      <td>140.34</td>\n",
       "      <td>茨城県</td>\n",
       "      <td>14.25</td>\n",
       "      <td>12180.4000</td>\n",
       "      <td>12250.8</td>\n",
       "    </tr>\n",
       "    <tr>\n",
       "      <th>5096</th>\n",
       "      <td>7340000772</td>\n",
       "      <td>34.77526</td>\n",
       "      <td>136.12886</td>\n",
       "      <td>34.78</td>\n",
       "      <td>136.12</td>\n",
       "      <td>三重県</td>\n",
       "      <td>5.04</td>\n",
       "      <td>NaN</td>\n",
       "      <td>NaN</td>\n",
       "    </tr>\n",
       "  </tbody>\n",
       "</table>\n",
       "<p>5097 rows × 9 columns</p>\n",
       "</div>"
      ],
      "text/plain": [
       "              id    id_lat     id_lng  id_lat_mesh  id_lng_mesh id_prefecture   \n",
       "0              6  35.81228  139.72822        35.82       139.72           埼玉県  \\\n",
       "1              9  31.92295  131.44116        31.92       131.44           宮崎県   \n",
       "2             12  35.67967  139.82913        35.68       139.82           東京都   \n",
       "3             14  35.09792  136.88363        35.10       136.88           愛知県   \n",
       "4             17  35.50329  139.69705        35.50       139.70          神奈川県   \n",
       "...          ...       ...        ...          ...          ...           ...   \n",
       "5092  6990000048  36.12519  140.51805        36.12       140.52           茨城県   \n",
       "5093  6990000049  36.12519  140.51805        36.12       140.52           茨城県   \n",
       "5094  6990000050  36.19365  140.34600        36.20       140.34           茨城県   \n",
       "5095  6990000051  36.19365  140.34600        36.20       140.34           茨城県   \n",
       "5096  7340000772  34.77526  136.12886        34.78       136.12           三重県   \n",
       "\n",
       "      pvrate  observed_max  observed_max2  \n",
       "0       3.42     3014.2112            NaN  \n",
       "1       3.00           NaN            NaN  \n",
       "2       6.02     4502.4124            NaN  \n",
       "3       4.13     3556.2000            NaN  \n",
       "4       2.79     2032.7072            NaN  \n",
       "...      ...           ...            ...  \n",
       "5092   16.50    14596.1192        14773.4  \n",
       "5093   14.83    13139.6332        13326.2  \n",
       "5094   16.24    13545.8344        13627.6  \n",
       "5095   14.25    12180.4000        12250.8  \n",
       "5096    5.04           NaN            NaN  \n",
       "\n",
       "[5097 rows x 9 columns]"
      ]
     },
     "execution_count": 50,
     "metadata": {},
     "output_type": "execute_result"
    }
   ],
   "source": [
    "tt = pd.read_csv(OUTPUT_DIR+'id_all_data.csv')\n",
    "print(OUTPUT_DIR+'id_all_data.csv')\n",
    "tt"
   ]
  },
  {
   "cell_type": "code",
   "execution_count": 54,
   "metadata": {},
   "outputs": [],
   "source": [
    "unique_id = ['10000095', '10000269', '1020000002', '1110000001', '1110000010', '1110000011', '1110000012', '1110000013', '1110000014', '1110000015', '1160000025', '1160000090', '1160000091', '1160000182', '1160000185', '1160000253', '1160000387', '1160000402', '1160000419', '1160000420', '1160000423', '1270000026', '1280000048', '1550000001', '1650000004', '1680000001', '1680000002', '1680000003', '1680000004', '1680000010', '1680000017', '1680000021', '1680000033', '1680000047', '1680000054', '1680000057', '1680000063', '1680000067', '1680000080', '1680000081', '1680000097', '1680000107', '1680000108', '1680000112', '1680000151', '1680000152', '1680000213', '1680000216', '1680000217', '1680000218', '1680000223', '1680000228', '1680000285', '1680000287', '1680000327', '1680000364', '2220000001', '2220000002', '2220000003', '2730000001', '2910000002', '3000000007', '3000000012', '3000000042', '5000000044', '5000000045', '6000000016', '6000000017', '6060000016', '6060000017', '6060000018', '6170000016', '6170000123', '6170000124', '6170000125', '6620000065', '6620000066', '6620000088', '6620000089', '6620000111', '6620000117', '6620000118', '6620000121', '6620000122', '6620000123', '6620000124', '6620000131', '6620000132', '6910000180', '6910000198', '6910000200', '6910000206', '6910000216', '6910000217', '6910000239', '6910000240', '6910000249', '6910000250', '6910000421', '6910000424', '6910000425', '6910000469', '6910000470']\n",
    "unique_id = [int(i) for i in unique_id]"
   ]
  },
  {
   "cell_type": "code",
   "execution_count": 47,
   "metadata": {},
   "outputs": [
    {
     "data": {
      "text/plain": [
       "observed_max     0\n",
       "observed_max2    0\n",
       "dtype: int64"
      ]
     },
     "execution_count": 47,
     "metadata": {},
     "output_type": "execute_result"
    }
   ],
   "source": [
    "id_all_data[id_all_data.id.isin(unique_id)][[\"observed_max\",\"observed_max2\"]].isnull().sum()"
   ]
  },
  {
   "cell_type": "code",
   "execution_count": 58,
   "metadata": {},
   "outputs": [
    {
     "data": {
      "text/plain": [
       "943.0750000000007"
      ]
     },
     "execution_count": 58,
     "metadata": {},
     "output_type": "execute_result"
    }
   ],
   "source": [
    "id_all_data[\"|observed_max-observed_max2|\"] = np.abs(id_all_data[\"observed_max\"] - id_all_data[\"observed_max2\"])\n",
    "id_all_data[id_all_data.id.isin(unique_id)][\"|observed_max-observed_max2|\"].max()"
   ]
  },
  {
   "cell_type": "code",
   "execution_count": 60,
   "metadata": {},
   "outputs": [
    {
     "data": {
      "text/html": [
       "<div>\n",
       "<style scoped>\n",
       "    .dataframe tbody tr th:only-of-type {\n",
       "        vertical-align: middle;\n",
       "    }\n",
       "\n",
       "    .dataframe tbody tr th {\n",
       "        vertical-align: top;\n",
       "    }\n",
       "\n",
       "    .dataframe thead th {\n",
       "        text-align: right;\n",
       "    }\n",
       "</style>\n",
       "<table border=\"1\" class=\"dataframe\">\n",
       "  <thead>\n",
       "    <tr style=\"text-align: right;\">\n",
       "      <th></th>\n",
       "      <th>id</th>\n",
       "      <th>id_lat</th>\n",
       "      <th>id_lng</th>\n",
       "      <th>id_lat_mesh</th>\n",
       "      <th>id_lng_mesh</th>\n",
       "      <th>id_prefecture</th>\n",
       "      <th>pvrate</th>\n",
       "      <th>observed_max</th>\n",
       "      <th>observed_max2</th>\n",
       "      <th>|observed_max-observed_max2|</th>\n",
       "    </tr>\n",
       "  </thead>\n",
       "  <tbody>\n",
       "    <tr>\n",
       "      <th>3072</th>\n",
       "      <td>6000000017</td>\n",
       "      <td>35.69908</td>\n",
       "      <td>140.10408</td>\n",
       "      <td>35.70</td>\n",
       "      <td>140.10</td>\n",
       "      <td>千葉県</td>\n",
       "      <td>16.1700</td>\n",
       "      <td>10151.9250</td>\n",
       "      <td>11095.0</td>\n",
       "      <td>943.0750</td>\n",
       "    </tr>\n",
       "    <tr>\n",
       "      <th>3536</th>\n",
       "      <td>6170000123</td>\n",
       "      <td>35.66595</td>\n",
       "      <td>140.09407</td>\n",
       "      <td>35.66</td>\n",
       "      <td>140.10</td>\n",
       "      <td>千葉県</td>\n",
       "      <td>16.5000</td>\n",
       "      <td>13399.7864</td>\n",
       "      <td>13889.0</td>\n",
       "      <td>489.2136</td>\n",
       "    </tr>\n",
       "    <tr>\n",
       "      <th>2545</th>\n",
       "      <td>2220000001</td>\n",
       "      <td>35.67731</td>\n",
       "      <td>140.10386</td>\n",
       "      <td>35.68</td>\n",
       "      <td>140.10</td>\n",
       "      <td>千葉県</td>\n",
       "      <td>20.0000</td>\n",
       "      <td>18114.5160</td>\n",
       "      <td>18522.0</td>\n",
       "      <td>407.4840</td>\n",
       "    </tr>\n",
       "    <tr>\n",
       "      <th>3842</th>\n",
       "      <td>6620000089</td>\n",
       "      <td>35.77488</td>\n",
       "      <td>140.03051</td>\n",
       "      <td>35.78</td>\n",
       "      <td>140.04</td>\n",
       "      <td>千葉県</td>\n",
       "      <td>15.2658</td>\n",
       "      <td>14929.9524</td>\n",
       "      <td>15265.8</td>\n",
       "      <td>335.8476</td>\n",
       "    </tr>\n",
       "    <tr>\n",
       "      <th>3071</th>\n",
       "      <td>6000000016</td>\n",
       "      <td>35.69908</td>\n",
       "      <td>140.10408</td>\n",
       "      <td>35.70</td>\n",
       "      <td>140.10</td>\n",
       "      <td>千葉県</td>\n",
       "      <td>16.1700</td>\n",
       "      <td>10136.6350</td>\n",
       "      <td>10451.8</td>\n",
       "      <td>315.1650</td>\n",
       "    </tr>\n",
       "    <tr>\n",
       "      <th>4688</th>\n",
       "      <td>6910000200</td>\n",
       "      <td>35.67766</td>\n",
       "      <td>140.03341</td>\n",
       "      <td>35.68</td>\n",
       "      <td>140.04</td>\n",
       "      <td>千葉県</td>\n",
       "      <td>11.0000</td>\n",
       "      <td>8425.6802</td>\n",
       "      <td>8723.2</td>\n",
       "      <td>297.5198</td>\n",
       "    </tr>\n",
       "    <tr>\n",
       "      <th>4705</th>\n",
       "      <td>6910000217</td>\n",
       "      <td>35.71602</td>\n",
       "      <td>140.07559</td>\n",
       "      <td>35.72</td>\n",
       "      <td>140.08</td>\n",
       "      <td>千葉県</td>\n",
       "      <td>17.6000</td>\n",
       "      <td>16116.1912</td>\n",
       "      <td>16411.6</td>\n",
       "      <td>295.4088</td>\n",
       "    </tr>\n",
       "    <tr>\n",
       "      <th>2547</th>\n",
       "      <td>2220000003</td>\n",
       "      <td>35.67731</td>\n",
       "      <td>140.10386</td>\n",
       "      <td>35.68</td>\n",
       "      <td>140.10</td>\n",
       "      <td>千葉県</td>\n",
       "      <td>14.7634</td>\n",
       "      <td>14471.6414</td>\n",
       "      <td>14763.4</td>\n",
       "      <td>291.7586</td>\n",
       "    </tr>\n",
       "    <tr>\n",
       "      <th>1517</th>\n",
       "      <td>1680000002</td>\n",
       "      <td>35.87808</td>\n",
       "      <td>139.95438</td>\n",
       "      <td>35.88</td>\n",
       "      <td>139.96</td>\n",
       "      <td>千葉県</td>\n",
       "      <td>12.4800</td>\n",
       "      <td>9033.8248</td>\n",
       "      <td>9306.2</td>\n",
       "      <td>272.3752</td>\n",
       "    </tr>\n",
       "    <tr>\n",
       "      <th>1516</th>\n",
       "      <td>1680000001</td>\n",
       "      <td>35.87808</td>\n",
       "      <td>139.95438</td>\n",
       "      <td>35.88</td>\n",
       "      <td>139.96</td>\n",
       "      <td>千葉県</td>\n",
       "      <td>12.4800</td>\n",
       "      <td>9043.8348</td>\n",
       "      <td>9316.2</td>\n",
       "      <td>272.3652</td>\n",
       "    </tr>\n",
       "    <tr>\n",
       "      <th>4704</th>\n",
       "      <td>6910000216</td>\n",
       "      <td>35.71873</td>\n",
       "      <td>140.14531</td>\n",
       "      <td>35.72</td>\n",
       "      <td>140.14</td>\n",
       "      <td>千葉県</td>\n",
       "      <td>13.2000</td>\n",
       "      <td>11297.2860</td>\n",
       "      <td>11557.4</td>\n",
       "      <td>260.1140</td>\n",
       "    </tr>\n",
       "    <tr>\n",
       "      <th>3538</th>\n",
       "      <td>6170000125</td>\n",
       "      <td>35.66595</td>\n",
       "      <td>140.09407</td>\n",
       "      <td>35.66</td>\n",
       "      <td>140.10</td>\n",
       "      <td>千葉県</td>\n",
       "      <td>16.5000</td>\n",
       "      <td>13654.1322</td>\n",
       "      <td>13909.0</td>\n",
       "      <td>254.8678</td>\n",
       "    </tr>\n",
       "    <tr>\n",
       "      <th>2843</th>\n",
       "      <td>3000000012</td>\n",
       "      <td>35.76726</td>\n",
       "      <td>140.01963</td>\n",
       "      <td>35.76</td>\n",
       "      <td>140.02</td>\n",
       "      <td>千葉県</td>\n",
       "      <td>6.4200</td>\n",
       "      <td>4361.2000</td>\n",
       "      <td>4602.6</td>\n",
       "      <td>241.4000</td>\n",
       "    </tr>\n",
       "    <tr>\n",
       "      <th>4668</th>\n",
       "      <td>6910000180</td>\n",
       "      <td>35.77187</td>\n",
       "      <td>139.88996</td>\n",
       "      <td>35.78</td>\n",
       "      <td>139.88</td>\n",
       "      <td>千葉県</td>\n",
       "      <td>16.5000</td>\n",
       "      <td>14431.3384</td>\n",
       "      <td>14662.8</td>\n",
       "      <td>231.4616</td>\n",
       "    </tr>\n",
       "    <tr>\n",
       "      <th>1518</th>\n",
       "      <td>1680000003</td>\n",
       "      <td>35.87808</td>\n",
       "      <td>139.95438</td>\n",
       "      <td>35.88</td>\n",
       "      <td>139.96</td>\n",
       "      <td>千葉県</td>\n",
       "      <td>12.4800</td>\n",
       "      <td>8973.3644</td>\n",
       "      <td>9165.4</td>\n",
       "      <td>192.0356</td>\n",
       "    </tr>\n",
       "    <tr>\n",
       "      <th>1519</th>\n",
       "      <td>1680000004</td>\n",
       "      <td>35.87808</td>\n",
       "      <td>139.95438</td>\n",
       "      <td>35.88</td>\n",
       "      <td>139.96</td>\n",
       "      <td>千葉県</td>\n",
       "      <td>12.4800</td>\n",
       "      <td>9003.5946</td>\n",
       "      <td>9195.6</td>\n",
       "      <td>192.0054</td>\n",
       "    </tr>\n",
       "    <tr>\n",
       "      <th>1621</th>\n",
       "      <td>1680000108</td>\n",
       "      <td>35.74183</td>\n",
       "      <td>139.95874</td>\n",
       "      <td>35.74</td>\n",
       "      <td>139.96</td>\n",
       "      <td>千葉県</td>\n",
       "      <td>11.1800</td>\n",
       "      <td>9070.8800</td>\n",
       "      <td>9256.0</td>\n",
       "      <td>185.1200</td>\n",
       "    </tr>\n",
       "    <tr>\n",
       "      <th>1219</th>\n",
       "      <td>1270000026</td>\n",
       "      <td>35.84243</td>\n",
       "      <td>139.92265</td>\n",
       "      <td>35.84</td>\n",
       "      <td>139.92</td>\n",
       "      <td>千葉県</td>\n",
       "      <td>9.4600</td>\n",
       "      <td>6156.5504</td>\n",
       "      <td>6341.4</td>\n",
       "      <td>184.8496</td>\n",
       "    </tr>\n",
       "    <tr>\n",
       "      <th>4686</th>\n",
       "      <td>6910000198</td>\n",
       "      <td>35.72271</td>\n",
       "      <td>140.04342</td>\n",
       "      <td>35.72</td>\n",
       "      <td>140.04</td>\n",
       "      <td>千葉県</td>\n",
       "      <td>15.4000</td>\n",
       "      <td>13480.2668</td>\n",
       "      <td>13657.8</td>\n",
       "      <td>177.5332</td>\n",
       "    </tr>\n",
       "    <tr>\n",
       "      <th>4906</th>\n",
       "      <td>6910000421</td>\n",
       "      <td>35.73048</td>\n",
       "      <td>139.95546</td>\n",
       "      <td>35.74</td>\n",
       "      <td>139.96</td>\n",
       "      <td>千葉県</td>\n",
       "      <td>18.7000</td>\n",
       "      <td>17351.7300</td>\n",
       "      <td>17527.0</td>\n",
       "      <td>175.2700</td>\n",
       "    </tr>\n",
       "  </tbody>\n",
       "</table>\n",
       "</div>"
      ],
      "text/plain": [
       "              id    id_lat     id_lng  id_lat_mesh  id_lng_mesh id_prefecture   \n",
       "3072  6000000017  35.69908  140.10408        35.70       140.10           千葉県  \\\n",
       "3536  6170000123  35.66595  140.09407        35.66       140.10           千葉県   \n",
       "2545  2220000001  35.67731  140.10386        35.68       140.10           千葉県   \n",
       "3842  6620000089  35.77488  140.03051        35.78       140.04           千葉県   \n",
       "3071  6000000016  35.69908  140.10408        35.70       140.10           千葉県   \n",
       "4688  6910000200  35.67766  140.03341        35.68       140.04           千葉県   \n",
       "4705  6910000217  35.71602  140.07559        35.72       140.08           千葉県   \n",
       "2547  2220000003  35.67731  140.10386        35.68       140.10           千葉県   \n",
       "1517  1680000002  35.87808  139.95438        35.88       139.96           千葉県   \n",
       "1516  1680000001  35.87808  139.95438        35.88       139.96           千葉県   \n",
       "4704  6910000216  35.71873  140.14531        35.72       140.14           千葉県   \n",
       "3538  6170000125  35.66595  140.09407        35.66       140.10           千葉県   \n",
       "2843  3000000012  35.76726  140.01963        35.76       140.02           千葉県   \n",
       "4668  6910000180  35.77187  139.88996        35.78       139.88           千葉県   \n",
       "1518  1680000003  35.87808  139.95438        35.88       139.96           千葉県   \n",
       "1519  1680000004  35.87808  139.95438        35.88       139.96           千葉県   \n",
       "1621  1680000108  35.74183  139.95874        35.74       139.96           千葉県   \n",
       "1219  1270000026  35.84243  139.92265        35.84       139.92           千葉県   \n",
       "4686  6910000198  35.72271  140.04342        35.72       140.04           千葉県   \n",
       "4906  6910000421  35.73048  139.95546        35.74       139.96           千葉県   \n",
       "\n",
       "       pvrate  observed_max  observed_max2  |observed_max-observed_max2|  \n",
       "3072  16.1700    10151.9250        11095.0                      943.0750  \n",
       "3536  16.5000    13399.7864        13889.0                      489.2136  \n",
       "2545  20.0000    18114.5160        18522.0                      407.4840  \n",
       "3842  15.2658    14929.9524        15265.8                      335.8476  \n",
       "3071  16.1700    10136.6350        10451.8                      315.1650  \n",
       "4688  11.0000     8425.6802         8723.2                      297.5198  \n",
       "4705  17.6000    16116.1912        16411.6                      295.4088  \n",
       "2547  14.7634    14471.6414        14763.4                      291.7586  \n",
       "1517  12.4800     9033.8248         9306.2                      272.3752  \n",
       "1516  12.4800     9043.8348         9316.2                      272.3652  \n",
       "4704  13.2000    11297.2860        11557.4                      260.1140  \n",
       "3538  16.5000    13654.1322        13909.0                      254.8678  \n",
       "2843   6.4200     4361.2000         4602.6                      241.4000  \n",
       "4668  16.5000    14431.3384        14662.8                      231.4616  \n",
       "1518  12.4800     8973.3644         9165.4                      192.0356  \n",
       "1519  12.4800     9003.5946         9195.6                      192.0054  \n",
       "1621  11.1800     9070.8800         9256.0                      185.1200  \n",
       "1219   9.4600     6156.5504         6341.4                      184.8496  \n",
       "4686  15.4000    13480.2668        13657.8                      177.5332  \n",
       "4906  18.7000    17351.7300        17527.0                      175.2700  "
      ]
     },
     "execution_count": 60,
     "metadata": {},
     "output_type": "execute_result"
    }
   ],
   "source": [
    "id_all_data[id_all_data.id.isin(unique_id)].sort_values(ascending=False,by=\"|observed_max-observed_max2|\").head(20)"
   ]
  },
  {
   "cell_type": "code",
   "execution_count": null,
   "metadata": {},
   "outputs": [],
   "source": []
  },
  {
   "cell_type": "code",
   "execution_count": null,
   "metadata": {},
   "outputs": [],
   "source": []
  },
  {
   "attachments": {},
   "cell_type": "markdown",
   "metadata": {},
   "source": [
    "# EDA006 オプティカルフローの予測値の欠損値補間を行う為のデータの前処理\n",
    "* pred_interpolated_mesh_data_201308151500.csvは8月15日15時00分の予測値（30分前に予測している）ことに注意！"
   ]
  },
  {
   "cell_type": "code",
   "execution_count": 59,
   "metadata": {},
   "outputs": [],
   "source": [
    "start_date = \"201308150000\"\n",
    "end_date = \"201408010000\"\n",
    "data_list = utils.create_time_series_data(start_date,end_date)"
   ]
  },
  {
   "cell_type": "code",
   "execution_count": 4,
   "metadata": {},
   "outputs": [],
   "source": [
    "lat = pd.read_csv(r\"H:\\study\\preprocessing_data\\3_mesh_place\\lati_zenkoku.csv\", header=None, index_col=None)\n",
    "lon = pd.read_csv(r\"H:\\study\\preprocessing_data\\3_mesh_place\\long_zenkoku.csv\", header=None, index_col=None)\n",
    "\n",
    "dt= datetime(2013, 8, 15, 6, 30)\n",
    "df,pred_data = utils.get_prediction_data_all(lat,lon,dt)"
   ]
  },
  {
   "cell_type": "code",
   "execution_count": 5,
   "metadata": {},
   "outputs": [
    {
     "name": "stdout",
     "output_type": "stream",
     "text": [
      "0.0_finish\n",
      "9.996283909327387_finish\n",
      "19.992567818654774_finish\n",
      "29.988851727982162_finish\n",
      "39.98513563730955_finish\n",
      "49.98141954663694_finish\n",
      "59.977703455964324_finish\n",
      "69.9739873652917_finish\n",
      "79.9702712746191_finish\n",
      "89.96655518394648_finish\n",
      "99.96283909327389_finish\n"
     ]
    }
   ],
   "source": [
    "for i,date in enumerate(data_list):\n",
    "    dt = datetime.strptime(date, '%Y%m%d%H%M')\n",
    "    df,pred_data = utils.get_prediction_data_all(lat,lon,dt)\n",
    "\n",
    "    pred_data.sort_values(by=[\"id_lat_mesh\",\"id_lng_mesh\"],inplace=True)\n",
    "\n",
    "    folderpath = f\"{OUTPUT_DIR}{dt.month}月/{dt.month}月{dt.day}日/\"\n",
    "    if not os.path.exists(folderpath):\n",
    "        os.makedirs(folderpath)    \n",
    "\n",
    "    filename = f\"Pred{dt.year-2000}{dt.month}{dt.day}{dt.hour}.{int(dt.minute/60*10)}_time_sort.csv\"\n",
    "    filename2 = f\"Pred{dt.year-2000}{dt.month}{dt.day}{dt.hour}.{int(dt.minute/60*10)}_time_sort2.csv\"\n",
    "    \n",
    "    pred_data[[\"id_lat_mesh\",\"id_lng_mesh\",\"pred\"]].to_csv(folderpath + filename, header=None, index=None)\n",
    "\n",
    "    pred_data[[\"id_lat_mesh\",\"id_lng_mesh\",\"pred\"]].replace(np.nan,\"NaN\").to_csv(folderpath + filename2, header=None, index=None)\n",
    "\n",
    "    if i%int(len(data_list)*0.1) == 0:\n",
    "        print(f\"{i/len(data_list)*100}_finish\")\n",
    "    #break"
   ]
  },
  {
   "attachments": {},
   "cell_type": "markdown",
   "metadata": {},
   "source": [
    "# MATLAB(EDA006.m,EDA006_2.m)でオプティカルフローの予測値の欠損値補間を行う\n",
    "\n",
    "補完したデータを読み込んで、オプティカルフローの予測値と発電量のマージを行う。"
   ]
  },
  {
   "cell_type": "code",
   "execution_count": 3,
   "metadata": {},
   "outputs": [],
   "source": [
    "lat = pd.read_csv(r\"H:\\study\\preprocessing_data\\3_mesh_place\\lati_zenkoku.csv\", header=None, index_col=None)\n",
    "lon = pd.read_csv(r\"H:\\study\\preprocessing_data\\3_mesh_place\\long_zenkoku.csv\", header=None, index_col=None)\n",
    "\n",
    "start_date = \"201308150000\"\n",
    "end_date = \"201408010000\"\n",
    "data_list = utils.create_time_series_data(start_date,end_date)"
   ]
  },
  {
   "cell_type": "code",
   "execution_count": 92,
   "metadata": {},
   "outputs": [
    {
     "name": "stdout",
     "output_type": "stream",
     "text": [
      "0.0_finish\n",
      "9.996283909327387_finish\n",
      "19.992567818654774_finish\n",
      "29.988851727982162_finish\n",
      "39.98513563730955_finish\n",
      "49.98141954663694_finish\n",
      "59.977703455964324_finish\n",
      "69.9739873652917_finish\n",
      "79.9702712746191_finish\n",
      "89.96655518394648_finish\n",
      "99.96283909327389_finish\n"
     ]
    }
   ],
   "source": [
    "pred_all_list = []\n",
    "for i,date in enumerate(data_list):\n",
    "    dt = datetime.strptime(date, '%Y%m%d%H%M')\n",
    "\n",
    "    path = f\"H:/study/output/StackingOpt/EDA006/{dt.month}月/{dt.month}月{dt.day}日/Pred_interpolated_{dt.year%1000}{dt.month}{dt.day}{dt.hour}.{int(dt.minute/60*10)}0.02_int2.csv\"\n",
    "    pred_interpolated = pd.read_csv(path, header=None, index_col=None)\n",
    "    pred_interpolated  = pd.DataFrame(zip(lat.to_numpy().reshape(-1),lon.to_numpy().reshape(-1),pred_interpolated.to_numpy().reshape(-1)),columns=[\"id_lat_mesh\", \"id_lng_mesh\", \"pred_interpolated\"])\n",
    "    pred_interpolated.dropna(inplace=True)\n",
    "\n",
    "    folderpath = f\"{OUTPUT_DIR}{dt.month}月/{dt.month}月{dt.day}日/\"\n",
    "    filename = f\"Pred{dt.year-2000}{dt.month}{dt.day}{dt.hour}.{int(dt.minute/60*10)}_time_sort.csv\"\n",
    "    pred = pd.read_csv(folderpath + filename, header=None, index_col=None,names=[\"id_lat_mesh\", \"id_lng_mesh\", \"pred\"])\n",
    "    pred.dropna(inplace=True)\n",
    "\n",
    "    pred_all = pd.merge(pred,pred_interpolated,on=[\"id_lat_mesh\",\"id_lng_mesh\"],how=\"outer\")\n",
    "    pred_all.to_csv(OUTPUT_DIR+f\"pred_all_{date}.csv\",index=False)\n",
    "    \n",
    "    pred_all[\"datetime\"] = dt\n",
    "    pred_all_list.append(pred_all)\n",
    "\n",
    "    if i%int(len(data_list)*0.1) == 0:\n",
    "        print(f\"{i/len(data_list)*100}_finish\")\n"
   ]
  },
  {
   "cell_type": "code",
   "execution_count": 3,
   "metadata": {},
   "outputs": [],
   "source": [
    "id_all_data = pd.read_csv(\"H:\\study\\preprocessing_data\\id_all_data.csv\",encoding='shift_jis')\n",
    "id_all_data = utils.get_mesh_round(id_all_data)\n"
   ]
  },
  {
   "cell_type": "code",
   "execution_count": 57,
   "metadata": {},
   "outputs": [
    {
     "name": "stdout",
     "output_type": "stream",
     "text": [
      "0.0_finish\n",
      "9.996283909327387_finish\n",
      "19.992567818654774_finish\n",
      "29.988851727982162_finish\n",
      "39.98513563730955_finish\n",
      "49.98141954663694_finish\n",
      "59.977703455964324_finish\n",
      "69.9739873652917_finish\n",
      "79.9702712746191_finish\n",
      "89.96655518394648_finish\n",
      "99.96283909327389_finish\n"
     ]
    }
   ],
   "source": [
    "id_all_data = pd.read_csv(\"H:\\study\\preprocessing_data\\id_all_data.csv\",encoding='shift_jis')\n",
    "id_all_data = utils.get_mesh_round(id_all_data)\n",
    "\n",
    "for i,date in enumerate(data_list):\n",
    "    dt = datetime.strptime(date, '%Y%m%d%H%M')\n",
    "    pred_all = pd.read_csv(OUTPUT_DIR+f\"pred_all_{date}.csv\")\n",
    "    pred_all = utils.get_mesh_round(pred_all)\n",
    "    save_file = id_all_data.merge(pred_all[[\"id_lat_mesh\",\"id_lng_mesh\",\"pred\",\"pred_interpolated\"]],on=[\"id_lat_mesh\",\"id_lng_mesh\"],how=\"left\")\n",
    "    save_file[\"datetime\"] = dt\n",
    "    save_file[[\"id\",\"pred\",\"pred_interpolated\",\"datetime\"]].to_csv(OUTPUT_DIR+f\"pred_id_all_data_{date}.csv\",index=False)\n",
    "\n",
    "    #break\n",
    "\n",
    "    if i%int(len(data_list)*0.1) == 0:\n",
    "        print(f\"{i/len(data_list)*100}_finish\")"
   ]
  },
  {
   "cell_type": "code",
   "execution_count": 4,
   "metadata": {},
   "outputs": [],
   "source": [
    "date = data_list[0]\n",
    "save_file = pd.read_csv(OUTPUT_DIR+f\"pred_id_all_data_{date}.csv\")"
   ]
  },
  {
   "cell_type": "code",
   "execution_count": 5,
   "metadata": {},
   "outputs": [
    {
     "data": {
      "text/html": [
       "<div>\n",
       "<style scoped>\n",
       "    .dataframe tbody tr th:only-of-type {\n",
       "        vertical-align: middle;\n",
       "    }\n",
       "\n",
       "    .dataframe tbody tr th {\n",
       "        vertical-align: top;\n",
       "    }\n",
       "\n",
       "    .dataframe thead th {\n",
       "        text-align: right;\n",
       "    }\n",
       "</style>\n",
       "<table border=\"1\" class=\"dataframe\">\n",
       "  <thead>\n",
       "    <tr style=\"text-align: right;\">\n",
       "      <th></th>\n",
       "      <th>id</th>\n",
       "      <th>pred</th>\n",
       "      <th>pred_interpolated</th>\n",
       "      <th>datetime</th>\n",
       "    </tr>\n",
       "  </thead>\n",
       "  <tbody>\n",
       "    <tr>\n",
       "      <th>0</th>\n",
       "      <td>6</td>\n",
       "      <td>0.796663</td>\n",
       "      <td>0.79666</td>\n",
       "      <td>2013-08-15 07:00:00</td>\n",
       "    </tr>\n",
       "    <tr>\n",
       "      <th>1</th>\n",
       "      <td>9</td>\n",
       "      <td>0.543782</td>\n",
       "      <td>0.54378</td>\n",
       "      <td>2013-08-15 07:00:00</td>\n",
       "    </tr>\n",
       "    <tr>\n",
       "      <th>2</th>\n",
       "      <td>12</td>\n",
       "      <td>0.565730</td>\n",
       "      <td>0.56573</td>\n",
       "      <td>2013-08-15 07:00:00</td>\n",
       "    </tr>\n",
       "    <tr>\n",
       "      <th>3</th>\n",
       "      <td>14</td>\n",
       "      <td>0.750505</td>\n",
       "      <td>0.75051</td>\n",
       "      <td>2013-08-15 07:00:00</td>\n",
       "    </tr>\n",
       "    <tr>\n",
       "      <th>4</th>\n",
       "      <td>17</td>\n",
       "      <td>0.743884</td>\n",
       "      <td>0.74388</td>\n",
       "      <td>2013-08-15 07:00:00</td>\n",
       "    </tr>\n",
       "    <tr>\n",
       "      <th>...</th>\n",
       "      <td>...</td>\n",
       "      <td>...</td>\n",
       "      <td>...</td>\n",
       "      <td>...</td>\n",
       "    </tr>\n",
       "    <tr>\n",
       "      <th>5092</th>\n",
       "      <td>6990000048</td>\n",
       "      <td>0.655848</td>\n",
       "      <td>0.65585</td>\n",
       "      <td>2013-08-15 07:00:00</td>\n",
       "    </tr>\n",
       "    <tr>\n",
       "      <th>5093</th>\n",
       "      <td>6990000049</td>\n",
       "      <td>0.655848</td>\n",
       "      <td>0.65585</td>\n",
       "      <td>2013-08-15 07:00:00</td>\n",
       "    </tr>\n",
       "    <tr>\n",
       "      <th>5094</th>\n",
       "      <td>6990000050</td>\n",
       "      <td>0.843789</td>\n",
       "      <td>0.84379</td>\n",
       "      <td>2013-08-15 07:00:00</td>\n",
       "    </tr>\n",
       "    <tr>\n",
       "      <th>5095</th>\n",
       "      <td>6990000051</td>\n",
       "      <td>0.843789</td>\n",
       "      <td>0.84379</td>\n",
       "      <td>2013-08-15 07:00:00</td>\n",
       "    </tr>\n",
       "    <tr>\n",
       "      <th>5096</th>\n",
       "      <td>7340000772</td>\n",
       "      <td>0.787594</td>\n",
       "      <td>0.78759</td>\n",
       "      <td>2013-08-15 07:00:00</td>\n",
       "    </tr>\n",
       "  </tbody>\n",
       "</table>\n",
       "<p>5097 rows × 4 columns</p>\n",
       "</div>"
      ],
      "text/plain": [
       "              id      pred  pred_interpolated             datetime\n",
       "0              6  0.796663            0.79666  2013-08-15 07:00:00\n",
       "1              9  0.543782            0.54378  2013-08-15 07:00:00\n",
       "2             12  0.565730            0.56573  2013-08-15 07:00:00\n",
       "3             14  0.750505            0.75051  2013-08-15 07:00:00\n",
       "4             17  0.743884            0.74388  2013-08-15 07:00:00\n",
       "...          ...       ...                ...                  ...\n",
       "5092  6990000048  0.655848            0.65585  2013-08-15 07:00:00\n",
       "5093  6990000049  0.655848            0.65585  2013-08-15 07:00:00\n",
       "5094  6990000050  0.843789            0.84379  2013-08-15 07:00:00\n",
       "5095  6990000051  0.843789            0.84379  2013-08-15 07:00:00\n",
       "5096  7340000772  0.787594            0.78759  2013-08-15 07:00:00\n",
       "\n",
       "[5097 rows x 4 columns]"
      ]
     },
     "execution_count": 5,
     "metadata": {},
     "output_type": "execute_result"
    }
   ],
   "source": [
    "save_file"
   ]
  },
  {
   "cell_type": "code",
   "execution_count": 145,
   "metadata": {},
   "outputs": [],
   "source": [
    "id_all_data = pd.read_csv(\"H:\\study\\output\\StackingOpt\\EDA006\\id_all_data.csv\")\n",
    "\n",
    "folder_path = \"H:/study/preprocessing_data/1_twoweeks_nv\"\n",
    "\n",
    "id_list = []\n",
    "files = os.listdir(folder_path)\n",
    "for file in files:\n",
    "    id_list.append(int(file.split(\".\")[0]))\n",
    "\n",
    "common_ids = id_all_data[id_all_data.id.isin(id_list)].id.tolist()\n",
    "common_ids = [str(num).zfill(10) for num in common_ids]\n",
    "common_ids_path  = [folder_path+f\"/{id}.csv\" for id in common_ids]"
   ]
  },
  {
   "cell_type": "code",
   "execution_count": 155,
   "metadata": {},
   "outputs": [
    {
     "name": "stdout",
     "output_type": "stream",
     "text": [
      "0.0_finish\n",
      "9.99184339314845_finish\n",
      "19.9836867862969_finish\n",
      "29.975530179445354_finish\n",
      "39.9673735725938_finish\n",
      "49.95921696574225_finish\n",
      "59.95106035889071_finish\n",
      "69.94290375203916_finish\n",
      "79.9347471451876_finish\n",
      "89.92659053833604_finish\n",
      "99.9184339314845_finish\n"
     ]
    }
   ],
   "source": [
    "df_list = []\n",
    "for i,path in enumerate(common_ids_path) :\n",
    "    df = pd.read_csv(path, header=None, index_col=None)\n",
    "    df.columns = [\"year\",\"month\",\"day\",\"hour\",\"flag\",\"nv\",\"two_weeks_max\"]\n",
    "    id = int(path.split(\"/\")[-1].split(\".\")[0])\n",
    "    df[\"id\"] = int(id)\n",
    "    df_list.append(df)\n",
    "    if i%int(len(common_ids_path)*0.1) == 0:\n",
    "        print(f\"{i/len(common_ids_path)*100}_finish\")\n",
    "    if int(id)<0:\n",
    "        print(path)\n",
    "    \n",
    "\n",
    "\n",
    "df = pd.concat(df_list) \n",
    "df[\"year\"] += 2000\n",
    "df[\"minute\"] = df[\"hour\"]%1*60\n",
    "df[\"hour\"] = df[\"hour\"]//1\n",
    "df[[\"hour\",\"minute\"]] = df[[\"hour\",\"minute\"]].astype(int)\n",
    "df['datetime'] = pd.to_datetime(df[['year', 'month', 'day', 'hour', 'minute']])\n",
    "df.drop([\"year\",\"month\",\"day\",\"hour\",\"minute\"],axis=1,inplace=True)\n"
   ]
  },
  {
   "cell_type": "code",
   "execution_count": 137,
   "metadata": {},
   "outputs": [
    {
     "name": "stdout",
     "output_type": "stream",
     "text": [
      "0.0_finish\n",
      "9.996283909327387_finish\n",
      "19.992567818654774_finish\n",
      "29.988851727982162_finish\n",
      "39.98513563730955_finish\n",
      "49.98141954663694_finish\n",
      "59.977703455964324_finish\n",
      "69.9739873652917_finish\n",
      "79.9702712746191_finish\n",
      "89.96655518394648_finish\n",
      "99.96283909327389_finish\n"
     ]
    }
   ],
   "source": [
    "start_date = \"201308150000\"\n",
    "end_date = \"201408010000\"\n",
    "data_list = utils.create_time_series_data(start_date,end_date)\n",
    "\n",
    "save_files = []\n",
    "for i,date in enumerate(data_list):\n",
    "    save_file = pd.read_csv('H:/study/output/StackingOpt/EDA006/'+f\"pred_id_all_data_{date}.csv\")\n",
    "    save_files.append(save_file)\n",
    "    if i%int(len(data_list)*0.1) == 0:\n",
    "        print(f\"{i/len(data_list)*100}_finish\")\n",
    "    if save_file.id.min()<0:\n",
    "        print(date)\n",
    "    #break\n",
    "# save_files = pd.concat(save_files)\n",
    "#save_files.to_csv(OUTPUT_DIR+\"save_files.csv\",index=False)\n",
    "save_files2 = pd.concat(save_files)"
   ]
  },
  {
   "cell_type": "code",
   "execution_count": 172,
   "metadata": {},
   "outputs": [],
   "source": [
    "save_files2 = pd.concat(save_files)\n",
    "\n",
    "df[\"datetime\"] = pd.to_datetime(df[\"datetime\"])\n",
    "save_files2[\"datetime\"] = pd.to_datetime(save_files2[\"datetime\"])"
   ]
  },
  {
   "cell_type": "code",
   "execution_count": 173,
   "metadata": {},
   "outputs": [],
   "source": [
    "df2 = df.merge(save_files2,on=[\"id\",\"datetime\"],how=\"left\")\n"
   ]
  },
  {
   "cell_type": "code",
   "execution_count": 177,
   "metadata": {},
   "outputs": [],
   "source": [
    "df2[\"hour\"] = df2[\"datetime\"].dt.hour\n",
    "df2[\"minute\"] = df2[\"datetime\"].dt.minute"
   ]
  },
  {
   "cell_type": "code",
   "execution_count": 184,
   "metadata": {},
   "outputs": [],
   "source": [
    "df3 = df2[(df2[\"hour\"]>=6)&(df2[\"hour\"]<=18)].reset_index(drop=True)"
   ]
  },
  {
   "cell_type": "code",
   "execution_count": 201,
   "metadata": {},
   "outputs": [
    {
     "name": "stdout",
     "output_type": "stream",
     "text": [
      "0.0_finish\n",
      "0.1_finish\n",
      "0.2_finish\n",
      "0.3_finish\n",
      "0.4_finish\n",
      "0.5_finish\n",
      "0.6_finish\n",
      "0.7_finish\n",
      "0.8_finish\n",
      "0.9_finish\n"
     ]
    }
   ],
   "source": [
    "unique_datetime = df3.datetime.unique()\n",
    "for i,(datetime,group) in enumerate(df3.groupby(\"datetime\")):\n",
    "    date = datetime.strftime('%Y%m%d%H%M')\n",
    "    group.reset_index(drop=True)\n",
    "    group.to_csv(OUTPUT_DIR+f\"optical_flow_pred_{date}.csv\",index=False)\n",
    "    if i%(int(len(unique_datetime)*0.1)) == 0:\n",
    "        print(f\"{i/len(unique_datetime)}_finish\")\n",
    "    #break"
   ]
  },
  {
   "cell_type": "code",
   "execution_count": 207,
   "metadata": {},
   "outputs": [
    {
     "data": {
      "text/plain": [
       "0.17141482276687597"
      ]
     },
     "execution_count": 207,
     "metadata": {},
     "output_type": "execute_result"
    }
   ],
   "source": [
    "(df3.loc[~df3.pred.isnull(),\"nv\"] - df3.loc[~df3.pred.isnull(),\"pred\"]).abs().mean()"
   ]
  },
  {
   "cell_type": "code",
   "execution_count": 209,
   "metadata": {},
   "outputs": [
    {
     "data": {
      "text/html": [
       "<div>\n",
       "<style scoped>\n",
       "    .dataframe tbody tr th:only-of-type {\n",
       "        vertical-align: middle;\n",
       "    }\n",
       "\n",
       "    .dataframe tbody tr th {\n",
       "        vertical-align: top;\n",
       "    }\n",
       "\n",
       "    .dataframe thead th {\n",
       "        text-align: right;\n",
       "    }\n",
       "</style>\n",
       "<table border=\"1\" class=\"dataframe\">\n",
       "  <thead>\n",
       "    <tr style=\"text-align: right;\">\n",
       "      <th></th>\n",
       "      <th>flag</th>\n",
       "      <th>nv</th>\n",
       "      <th>two_weeks_max</th>\n",
       "      <th>id</th>\n",
       "      <th>datetime</th>\n",
       "      <th>pred</th>\n",
       "      <th>pred_interpolated</th>\n",
       "      <th>hour</th>\n",
       "      <th>minute</th>\n",
       "    </tr>\n",
       "  </thead>\n",
       "  <tbody>\n",
       "    <tr>\n",
       "      <th>366</th>\n",
       "      <td>2</td>\n",
       "      <td>0.828</td>\n",
       "      <td>872.6</td>\n",
       "      <td>551</td>\n",
       "      <td>2013-08-15 07:00:00</td>\n",
       "      <td>0.804787</td>\n",
       "      <td>0.80479</td>\n",
       "      <td>7</td>\n",
       "      <td>0</td>\n",
       "    </tr>\n",
       "    <tr>\n",
       "      <th>367</th>\n",
       "      <td>2</td>\n",
       "      <td>0.716</td>\n",
       "      <td>1279.2</td>\n",
       "      <td>551</td>\n",
       "      <td>2013-08-15 07:30:00</td>\n",
       "      <td>0.732476</td>\n",
       "      <td>0.73248</td>\n",
       "      <td>7</td>\n",
       "      <td>30</td>\n",
       "    </tr>\n",
       "    <tr>\n",
       "      <th>368</th>\n",
       "      <td>2</td>\n",
       "      <td>1.000</td>\n",
       "      <td>1638.0</td>\n",
       "      <td>551</td>\n",
       "      <td>2013-08-15 08:00:00</td>\n",
       "      <td>0.842366</td>\n",
       "      <td>0.84237</td>\n",
       "      <td>8</td>\n",
       "      <td>0</td>\n",
       "    </tr>\n",
       "    <tr>\n",
       "      <th>369</th>\n",
       "      <td>2</td>\n",
       "      <td>0.762</td>\n",
       "      <td>1846.6</td>\n",
       "      <td>551</td>\n",
       "      <td>2013-08-15 08:30:00</td>\n",
       "      <td>0.735932</td>\n",
       "      <td>0.73593</td>\n",
       "      <td>8</td>\n",
       "      <td>30</td>\n",
       "    </tr>\n",
       "    <tr>\n",
       "      <th>370</th>\n",
       "      <td>2</td>\n",
       "      <td>0.879</td>\n",
       "      <td>2217.8</td>\n",
       "      <td>551</td>\n",
       "      <td>2013-08-15 09:00:00</td>\n",
       "      <td>0.762473</td>\n",
       "      <td>0.76247</td>\n",
       "      <td>9</td>\n",
       "      <td>0</td>\n",
       "    </tr>\n",
       "    <tr>\n",
       "      <th>...</th>\n",
       "      <td>...</td>\n",
       "      <td>...</td>\n",
       "      <td>...</td>\n",
       "      <td>...</td>\n",
       "      <td>...</td>\n",
       "      <td>...</td>\n",
       "      <td>...</td>\n",
       "      <td>...</td>\n",
       "      <td>...</td>\n",
       "    </tr>\n",
       "    <tr>\n",
       "      <th>43144372</th>\n",
       "      <td>2</td>\n",
       "      <td>0.847</td>\n",
       "      <td>4220.4</td>\n",
       "      <td>6990000051</td>\n",
       "      <td>2014-07-31 16:00:00</td>\n",
       "      <td>0.839462</td>\n",
       "      <td>0.83946</td>\n",
       "      <td>16</td>\n",
       "      <td>0</td>\n",
       "    </tr>\n",
       "    <tr>\n",
       "      <th>43144373</th>\n",
       "      <td>2</td>\n",
       "      <td>0.859</td>\n",
       "      <td>2747.8</td>\n",
       "      <td>6990000051</td>\n",
       "      <td>2014-07-31 16:30:00</td>\n",
       "      <td>0.903446</td>\n",
       "      <td>0.90345</td>\n",
       "      <td>16</td>\n",
       "      <td>30</td>\n",
       "    </tr>\n",
       "    <tr>\n",
       "      <th>43144374</th>\n",
       "      <td>2</td>\n",
       "      <td>0.617</td>\n",
       "      <td>1970.8</td>\n",
       "      <td>6990000051</td>\n",
       "      <td>2014-07-31 17:00:00</td>\n",
       "      <td>0.772158</td>\n",
       "      <td>0.77216</td>\n",
       "      <td>17</td>\n",
       "      <td>0</td>\n",
       "    </tr>\n",
       "    <tr>\n",
       "      <th>43144375</th>\n",
       "      <td>2</td>\n",
       "      <td>0.781</td>\n",
       "      <td>979.8</td>\n",
       "      <td>6990000051</td>\n",
       "      <td>2014-07-31 17:30:00</td>\n",
       "      <td>0.592240</td>\n",
       "      <td>0.59224</td>\n",
       "      <td>17</td>\n",
       "      <td>30</td>\n",
       "    </tr>\n",
       "    <tr>\n",
       "      <th>43144376</th>\n",
       "      <td>2</td>\n",
       "      <td>0.947</td>\n",
       "      <td>808.2</td>\n",
       "      <td>6990000051</td>\n",
       "      <td>2014-07-31 18:00:00</td>\n",
       "      <td>0.525790</td>\n",
       "      <td>0.52579</td>\n",
       "      <td>18</td>\n",
       "      <td>0</td>\n",
       "    </tr>\n",
       "  </tbody>\n",
       "</table>\n",
       "<p>34568047 rows × 9 columns</p>\n",
       "</div>"
      ],
      "text/plain": [
       "          flag     nv  two_weeks_max          id            datetime   \n",
       "366          2  0.828          872.6         551 2013-08-15 07:00:00  \\\n",
       "367          2  0.716         1279.2         551 2013-08-15 07:30:00   \n",
       "368          2  1.000         1638.0         551 2013-08-15 08:00:00   \n",
       "369          2  0.762         1846.6         551 2013-08-15 08:30:00   \n",
       "370          2  0.879         2217.8         551 2013-08-15 09:00:00   \n",
       "...        ...    ...            ...         ...                 ...   \n",
       "43144372     2  0.847         4220.4  6990000051 2014-07-31 16:00:00   \n",
       "43144373     2  0.859         2747.8  6990000051 2014-07-31 16:30:00   \n",
       "43144374     2  0.617         1970.8  6990000051 2014-07-31 17:00:00   \n",
       "43144375     2  0.781          979.8  6990000051 2014-07-31 17:30:00   \n",
       "43144376     2  0.947          808.2  6990000051 2014-07-31 18:00:00   \n",
       "\n",
       "              pred  pred_interpolated  hour  minute  \n",
       "366       0.804787            0.80479     7       0  \n",
       "367       0.732476            0.73248     7      30  \n",
       "368       0.842366            0.84237     8       0  \n",
       "369       0.735932            0.73593     8      30  \n",
       "370       0.762473            0.76247     9       0  \n",
       "...            ...                ...   ...     ...  \n",
       "43144372  0.839462            0.83946    16       0  \n",
       "43144373  0.903446            0.90345    16      30  \n",
       "43144374  0.772158            0.77216    17       0  \n",
       "43144375  0.592240            0.59224    17      30  \n",
       "43144376  0.525790            0.52579    18       0  \n",
       "\n",
       "[34568047 rows x 9 columns]"
      ]
     },
     "execution_count": 209,
     "metadata": {},
     "output_type": "execute_result"
    }
   ],
   "source": [
    "\n",
    "df3.loc[~df3.pred.isnull()] "
   ]
  },
  {
   "attachments": {},
   "cell_type": "markdown",
   "metadata": {},
   "source": [
    "# unique_idのメッシュデータを抽出"
   ]
  },
  {
   "cell_type": "code",
   "execution_count": 14,
   "metadata": {},
   "outputs": [],
   "source": [
    "import utils\n",
    "import pandas as pd\n",
    "import datetime\n",
    "\n",
    "\n",
    "lat = pd.read_csv(r\"H:\\study\\preprocessing_data\\3_mesh_place\\lati_zenkoku.csv\", header=None, index_col=None)\n",
    "lon = pd.read_csv(r\"H:\\study\\preprocessing_data\\3_mesh_place\\long_zenkoku.csv\", header=None, index_col=None)\n",
    "id_all_data = pd.read_csv(r\"H:\\study\\preprocessing_data\\id_all_data.csv\", encoding=\"shift_jis\")\n",
    "\n",
    "unique_id = ['10000095', '10000269', '1020000002', '1110000001', '1110000010', '1110000011', '1110000012', '1110000013', '1110000014', '1110000015', '1160000025', '1160000090', '1160000091', '1160000182', '1160000185', '1160000253', '1160000387', '1160000402', '1160000419', '1160000420', '1160000423', '1270000026', '1280000048', '1550000001', '1650000004', '1680000001', '1680000002', '1680000003', '1680000004', '1680000010', '1680000017', '1680000021', '1680000033', '1680000047', '1680000054', '1680000057', '1680000063', '1680000067', '1680000080', '1680000081', '1680000097', '1680000107', '1680000108', '1680000112', '1680000151', '1680000152', '1680000213', '1680000216', '1680000217', '1680000218', '1680000223', '1680000228', '1680000285', '1680000287', '1680000327', '1680000364', '2220000001', '2220000002', '2220000003', '2730000001', '2910000002', '3000000007', '3000000012', '3000000042', '5000000044', '5000000045', '6000000016', '6000000017', '6060000016', '6060000017', '6060000018', '6170000016', '6170000123', '6170000124', '6170000125', '6620000065', '6620000066', '6620000088', '6620000089', '6620000111', '6620000117', '6620000118', '6620000121', '6620000122', '6620000123', '6620000124', '6620000131', '6620000132', '6910000180', '6910000198', '6910000200', '6910000206', '6910000216', '6910000217', '6910000239', '6910000240', '6910000249', '6910000250', '6910000421', '6910000424', '6910000425', '6910000469', '6910000470']\n",
    "unique_id = [int(i) for i in unique_id]\n",
    "id_data = id_all_data[id_all_data.id.isin(unique_id)].reset_index(drop=True)\n",
    "\n",
    "dt = datetime.datetime(2013, 8, 15, 7, 0)\n",
    "df = utils.get_pred_interpolated_mesh(id_data,lat,lon,dt)"
   ]
  },
  {
   "cell_type": "code",
   "execution_count": 15,
   "metadata": {},
   "outputs": [],
   "source": [
    "from datetime import datetime, timedelta\n",
    "\n",
    "def create_time_series_data(start_date, end_date):\n",
    "\n",
    "    start_date = datetime.strptime(start_date, \"%Y%m%d%H%M\")\n",
    "    end_date = datetime.strptime(end_date, \"%Y%m%d%H%M\")\n",
    "    delta = timedelta(minutes=30)\n",
    "\n",
    "    data_list = []\n",
    "    date = start_date\n",
    "    while date <= end_date:\n",
    "        if date.hour > 6 and date.hour < 18:\n",
    "            data_list.append(date.strftime(\"%Y%m%d%H%M\"))\n",
    "        elif date.hour == 18 and date.minute == 0:\n",
    "            data_list.append(date.strftime(\"%Y%m%d%H%M\"))\n",
    "        date += delta\n",
    "    \n",
    "    return data_list\n",
    "\n",
    "start_date = \"201308150000\"\n",
    "end_date = \"201408010000\"\n",
    "\n",
    "date_range = create_time_series_data(start_date,end_date)\n",
    "# datetimes = [datetime.strptime(ts, '%Y%m%d%H%M') for ts in timestamps]"
   ]
  },
  {
   "cell_type": "code",
   "execution_count": 21,
   "metadata": {},
   "outputs": [
    {
     "name": "stdout",
     "output_type": "stream",
     "text": [
      "0.0%_finish\n",
      "9.996283909327387%_finish\n",
      "19.992567818654774%_finish\n",
      "29.988851727982162%_finish\n",
      "39.98513563730955%_finish\n",
      "49.98141954663694%_finish\n",
      "59.977703455964324%_finish\n",
      "69.9739873652917%_finish\n",
      "79.9702712746191%_finish\n",
      "89.96655518394648%_finish\n",
      "99.96283909327389%_finish\n"
     ]
    }
   ],
   "source": [
    "mesh_data_list,pred_data_list = [],[]\n",
    "for i,date in enumerate(date_range):\n",
    "    dt = datetime.strptime(date, '%Y%m%d%H%M')\n",
    "    mesh_data = utils.get_pred_interpolated_mesh(id_data,lat,lon,dt)\n",
    "    mesh_data_list.append(mesh_data)\n",
    "    \n",
    "    mesh_data.to_csv(OUTPUT_DIR+f\"pred_interpolated_mesh_data_{dt.strftime('%Y%m%d%H%M')}.csv\")\n",
    "    if i%int(len(date_range)*0.1)==0:\n",
    "        print(f\"{i/len(date_range)*100}%_finish\")\n",
    "    #break"
   ]
  },
  {
   "attachments": {},
   "cell_type": "markdown",
   "metadata": {},
   "source": [
    "# 予測値を補間したメッシュデータを抽出"
   ]
  },
  {
   "cell_type": "code",
   "execution_count": 6,
   "metadata": {},
   "outputs": [],
   "source": [
    "# train_start_date = \"201308150000\"\n",
    "# train_end_date = \"201407010000\"\n",
    "# test_start_date = \"201407010000\"\n",
    "# test_end_date = \"201408010000\"\n",
    "\n",
    "train_start_date = \"201308150000\"\n",
    "train_end_date = \"20130817000\"\n",
    "test_start_date = \"201308170000\"\n",
    "test_end_date = \"20130818000\"\n",
    "\n",
    "# 時系列の分割設定\n",
    "n_splits = 2\n",
    "train_data_list = utils.create_time_series_data(train_start_date,train_end_date)\n",
    "train_date_list_split = np.array_split(train_data_list, n_splits)\n",
    "test_dates = utils.create_time_series_data(test_start_date,test_end_date)\n",
    "\n",
    "\n",
    "train_dates = train_date_list_split[0]\n",
    "valid_dates = train_date_list_split[1]\n",
    "\n",
    "date = train_dates[0]\n",
    "date_list = train_dates\n",
    "\n",
    "\n",
    "pred_dir = \"H:\\study\\output\\StackingOpt\\EDA006\"\n",
    "date_list = train_dates\n",
    "\n",
    "X_data2 = utils.get_pred_interpolated_mesh_data(pred_dir,date_list)\n",
    "\n"
   ]
  },
  {
   "cell_type": "code",
   "execution_count": 7,
   "metadata": {},
   "outputs": [
    {
     "data": {
      "text/plain": [
       "(23, 192)"
      ]
     },
     "execution_count": 7,
     "metadata": {},
     "output_type": "execute_result"
    }
   ],
   "source": [
    "X_data2.shape"
   ]
  },
  {
   "attachments": {},
   "cell_type": "markdown",
   "metadata": {},
   "source": [
    "# ↑にならって欠損値補間メッシュデータを抽出"
   ]
  },
  {
   "cell_type": "code",
   "execution_count": 24,
   "metadata": {},
   "outputs": [],
   "source": [
    "# train_start_date = \"201308150000\"\n",
    "# train_end_date = \"201407010000\"\n",
    "# test_start_date = \"201407010000\"\n",
    "# test_end_date = \"201408010000\"\n",
    "\n",
    "train_start_date = \"201308150000\"\n",
    "train_end_date = \"20130817000\"\n",
    "test_start_date = \"201308170000\"\n",
    "test_end_date = \"20130818000\"\n",
    "\n",
    "# 時系列の分割設定\n",
    "n_splits = 2\n",
    "train_data_list = utils.create_time_series_data(train_start_date,train_end_date)\n",
    "train_date_list_split = np.array_split(train_data_list, n_splits)\n",
    "test_dates = utils.create_time_series_data(test_start_date,test_end_date)\n",
    "\n",
    "\n",
    "train_dates = train_date_list_split[0]\n",
    "valid_dates = train_date_list_split[1]\n",
    "\n",
    "date = train_dates[0]\n",
    "date_list = train_dates\n",
    "\n",
    "interpolated_dir = \"H:\\study\\output\\StackingOpt\\EDA005\"\n",
    "\n",
    "X_data,Y_data = utils.get_interpolated_mesh_data(interpolated_dir,date_list)\n"
   ]
  },
  {
   "cell_type": "code",
   "execution_count": 25,
   "metadata": {},
   "outputs": [
    {
     "data": {
      "text/plain": [
       "(23, 192)"
      ]
     },
     "execution_count": 25,
     "metadata": {},
     "output_type": "execute_result"
    }
   ],
   "source": [
    "X_data.shape"
   ]
  },
  {
   "attachments": {},
   "cell_type": "markdown",
   "metadata": {},
   "source": [
    "# オプティカルフローの速さのデータを抽出する。"
   ]
  },
  {
   "cell_type": "code",
   "execution_count": 4,
   "metadata": {},
   "outputs": [],
   "source": [
    "lat = pd.read_csv(r\"H:\\study\\preprocessing_data\\3_mesh_place\\lati_zenkoku.csv\", header=None, index_col=None)\n",
    "lon = pd.read_csv(r\"H:\\study\\preprocessing_data\\3_mesh_place\\long_zenkoku.csv\", header=None, index_col=None)\n",
    "id_all_data = pd.read_csv(r\"H:\\study\\preprocessing_data\\id_all_data.csv\", encoding=\"shift_jis\")\n",
    "\n",
    "unique_id = ['10000095', '10000269', '1020000002', '1110000001', '1110000010', '1110000011', '1110000012', '1110000013', '1110000014', '1110000015', '1160000025', '1160000090', '1160000091', '1160000182', '1160000185', '1160000253', '1160000387', '1160000402', '1160000419', '1160000420', '1160000423', '1270000026', '1280000048', '1550000001', '1650000004', '1680000001', '1680000002', '1680000003', '1680000004', '1680000010', '1680000017', '1680000021', '1680000033', '1680000047', '1680000054', '1680000057', '1680000063', '1680000067', '1680000080', '1680000081', '1680000097', '1680000107', '1680000108', '1680000112', '1680000151', '1680000152', '1680000213', '1680000216', '1680000217', '1680000218', '1680000223', '1680000228', '1680000285', '1680000287', '1680000327', '1680000364', '2220000001', '2220000002', '2220000003', '2730000001', '2910000002', '3000000007', '3000000012', '3000000042', '5000000044', '5000000045', '6000000016', '6000000017', '6060000016', '6060000017', '6060000018', '6170000016', '6170000123', '6170000124', '6170000125', '6620000065', '6620000066', '6620000088', '6620000089', '6620000111', '6620000117', '6620000118', '6620000121', '6620000122', '6620000123', '6620000124', '6620000131', '6620000132', '6910000180', '6910000198', '6910000200', '6910000206', '6910000216', '6910000217', '6910000239', '6910000240', '6910000249', '6910000250', '6910000421', '6910000424', '6910000425', '6910000469', '6910000470']\n",
    "unique_id = [int(i) for i in unique_id]\n",
    "id_data = id_all_data[id_all_data.id.isin(unique_id)].reset_index(drop=True)"
   ]
  },
  {
   "cell_type": "code",
   "execution_count": 9,
   "metadata": {},
   "outputs": [],
   "source": [
    "start_date = \"201308150000\"\n",
    "end_date = \"201408010000\"\n",
    "\n",
    "date_range = utils.create_time_series_data(start_date,end_date)\n",
    "\n",
    "date = date_range[0]\n",
    "dt = datetime.strptime(date, '%Y%m%d%H%M')\n",
    "flo, flo_lat,flo_lon = utils.get_flo_mesh(id_data,lat,lon,dt)\n"
   ]
  },
  {
   "cell_type": "code",
   "execution_count": 20,
   "metadata": {},
   "outputs": [
    {
     "name": "stdout",
     "output_type": "stream",
     "text": [
      "0.0%_finish\n",
      "9.996283909327387%_finish\n",
      "19.992567818654774%_finish\n",
      "29.988851727982162%_finish\n",
      "39.98513563730955%_finish\n",
      "49.98141954663694%_finish\n",
      "59.977703455964324%_finish\n",
      "69.9739873652917%_finish\n",
      "79.9702712746191%_finish\n",
      "89.96655518394648%_finish\n",
      "99.96283909327389%_finish\n",
      "[]\n"
     ]
    }
   ],
   "source": [
    "missing_dates = []\n",
    "for i,date in enumerate(date_range):\n",
    "    dt = datetime.strptime(date, '%Y%m%d%H%M')\n",
    "    flo, flo_lat, flo_lon = utils.get_flo_mesh(id_data,lat,lon,dt)\n",
    "\n",
    "    flo.to_csv(OUTPUT_DIR+f\"flo_data_{dt.strftime('%Y%m%d%H%M')}.csv\")\n",
    "    flo_lat.to_csv(OUTPUT_DIR+f\"flo_lat_data_{dt.strftime('%Y%m%d%H%M')}.csv\")\n",
    "    flo_lon.to_csv(OUTPUT_DIR+f\"flo_lon_data_{dt.strftime('%Y%m%d%H%M')}.csv\")\n",
    "    if i%int(len(date_range)*0.1)==0:\n",
    "        print(f\"{i/len(date_range)*100}%_finish\")\n",
    "    if flo_lat.isnull().sum().sum()!=0 or flo_lon.isnull().sum().sum()!=0:\n",
    "        missing_dates.append(date)\n",
    "print(missing_dates)"
   ]
  },
  {
   "attachments": {},
   "cell_type": "markdown",
   "metadata": {},
   "source": [
    "# 上で作ったデータを抽出"
   ]
  },
  {
   "cell_type": "code",
   "execution_count": 4,
   "metadata": {},
   "outputs": [],
   "source": [
    "lat = pd.read_csv(r\"H:\\study\\preprocessing_data\\3_mesh_place\\lati_zenkoku.csv\", header=None, index_col=None)\n",
    "lon = pd.read_csv(r\"H:\\study\\preprocessing_data\\3_mesh_place\\long_zenkoku.csv\", header=None, index_col=None)\n",
    "id_all_data = pd.read_csv(r\"H:\\study\\preprocessing_data\\id_all_data.csv\", encoding=\"shift_jis\")\n",
    "\n",
    "unique_id = ['10000095', '10000269', '1020000002', '1110000001', '1110000010', '1110000011', '1110000012', '1110000013', '1110000014', '1110000015', '1160000025', '1160000090', '1160000091', '1160000182', '1160000185', '1160000253', '1160000387', '1160000402', '1160000419', '1160000420', '1160000423', '1270000026', '1280000048', '1550000001', '1650000004', '1680000001', '1680000002', '1680000003', '1680000004', '1680000010', '1680000017', '1680000021', '1680000033', '1680000047', '1680000054', '1680000057', '1680000063', '1680000067', '1680000080', '1680000081', '1680000097', '1680000107', '1680000108', '1680000112', '1680000151', '1680000152', '1680000213', '1680000216', '1680000217', '1680000218', '1680000223', '1680000228', '1680000285', '1680000287', '1680000327', '1680000364', '2220000001', '2220000002', '2220000003', '2730000001', '2910000002', '3000000007', '3000000012', '3000000042', '5000000044', '5000000045', '6000000016', '6000000017', '6060000016', '6060000017', '6060000018', '6170000016', '6170000123', '6170000124', '6170000125', '6620000065', '6620000066', '6620000088', '6620000089', '6620000111', '6620000117', '6620000118', '6620000121', '6620000122', '6620000123', '6620000124', '6620000131', '6620000132', '6910000180', '6910000198', '6910000200', '6910000206', '6910000216', '6910000217', '6910000239', '6910000240', '6910000249', '6910000250', '6910000421', '6910000424', '6910000425', '6910000469', '6910000470']\n",
    "unique_id = [int(i) for i in unique_id]\n",
    "id_data = id_all_data[id_all_data.id.isin(unique_id)].reset_index(drop=True)\n",
    "\n",
    "start_date = \"201308150000\"\n",
    "end_date = \"201408010000\"\n",
    "\n",
    "date_range = utils.create_time_series_data(start_date,end_date)\n",
    "\n"
   ]
  },
  {
   "cell_type": "code",
   "execution_count": 11,
   "metadata": {},
   "outputs": [],
   "source": [
    "date_list = date_range[:10]\n",
    "flo_dir = 'H:\\study\\output\\StackingOpt\\EDA006'\n",
    "flo_data = utils.get_flo_mesh_data(flo_dir,date_list)\n",
    "flo_lat_data = utils.get_flo_lat_mesh_data(flo_dir,date_list)\n",
    "flo_lon_data = utils.get_flo_lon_mesh_data(flo_dir,date_list)"
   ]
  },
  {
   "cell_type": "code",
   "execution_count": 8,
   "metadata": {},
   "outputs": [],
   "source": [
    "date_list = date_range\n",
    "flo_data = utils.get_flo_mesh_data(flo_dir,date_list)\n"
   ]
  },
  {
   "cell_type": "code",
   "execution_count": null,
   "metadata": {},
   "outputs": [],
   "source": []
  },
  {
   "attachments": {},
   "cell_type": "markdown",
   "metadata": {},
   "source": [
    "# 今までのデータの整合性を確認する。\n",
    "- オプティカルフローの予測値,補間発電量は一致するが、フローの速さは一致しない。以前、フローの速さの決定木の重要度が低かった気がする。（←呉先輩のデータにミス？）\n",
    "- フロー = (フロー緯度2乗+フロー経度2乗)**(1/2)\n"
   ]
  },
  {
   "cell_type": "code",
   "execution_count": 75,
   "metadata": {},
   "outputs": [],
   "source": [
    "lat = pd.read_csv(r\"H:\\study\\preprocessing_data\\3_mesh_place\\lati_zenkoku.csv\", header=None, index_col=None)\n",
    "lon = pd.read_csv(r\"H:\\study\\preprocessing_data\\3_mesh_place\\long_zenkoku.csv\", header=None, index_col=None)\n",
    "id_all_data = pd.read_csv(r\"H:\\study\\preprocessing_data\\id_all_data.csv\", encoding=\"shift_jis\")\n",
    "\n",
    "unique_id = ['10000095', '10000269', '1020000002', '1110000001', '1110000010', '1110000011', '1110000012', '1110000013', '1110000014', '1110000015', '1160000025', '1160000090', '1160000091', '1160000182', '1160000185', '1160000253', '1160000387', '1160000402', '1160000419', '1160000420', '1160000423', '1270000026', '1280000048', '1550000001', '1650000004', '1680000001', '1680000002', '1680000003', '1680000004', '1680000010', '1680000017', '1680000021', '1680000033', '1680000047', '1680000054', '1680000057', '1680000063', '1680000067', '1680000080', '1680000081', '1680000097', '1680000107', '1680000108', '1680000112', '1680000151', '1680000152', '1680000213', '1680000216', '1680000217', '1680000218', '1680000223', '1680000228', '1680000285', '1680000287', '1680000327', '1680000364', '2220000001', '2220000002', '2220000003', '2730000001', '2910000002', '3000000007', '3000000012', '3000000042', '5000000044', '5000000045', '6000000016', '6000000017', '6060000016', '6060000017', '6060000018', '6170000016', '6170000123', '6170000124', '6170000125', '6620000065', '6620000066', '6620000088', '6620000089', '6620000111', '6620000117', '6620000118', '6620000121', '6620000122', '6620000123', '6620000124', '6620000131', '6620000132', '6910000180', '6910000198', '6910000200', '6910000206', '6910000216', '6910000217', '6910000239', '6910000240', '6910000249', '6910000250', '6910000421', '6910000424', '6910000425', '6910000469', '6910000470']\n",
    "unique_id = [int(i) for i in unique_id]\n",
    "id_data = id_all_data[id_all_data.id.isin(unique_id)].reset_index(drop=True)\n",
    "id_data = utils.get_mesh_round(id_data)"
   ]
  },
  {
   "cell_type": "code",
   "execution_count": 152,
   "metadata": {},
   "outputs": [
    {
     "name": "stdout",
     "output_type": "stream",
     "text": [
      "201308150700\n"
     ]
    },
    {
     "data": {
      "text/html": [
       "<div>\n",
       "<style scoped>\n",
       "    .dataframe tbody tr th:only-of-type {\n",
       "        vertical-align: middle;\n",
       "    }\n",
       "\n",
       "    .dataframe tbody tr th {\n",
       "        vertical-align: top;\n",
       "    }\n",
       "\n",
       "    .dataframe thead th {\n",
       "        text-align: right;\n",
       "    }\n",
       "</style>\n",
       "<table border=\"1\" class=\"dataframe\">\n",
       "  <thead>\n",
       "    <tr style=\"text-align: right;\">\n",
       "      <th></th>\n",
       "      <th>flo_lng</th>\n",
       "      <th>flo_lat</th>\n",
       "      <th>flo</th>\n",
       "      <th>env</th>\n",
       "      <th>nv_meshint</th>\n",
       "      <th>nv</th>\n",
       "    </tr>\n",
       "  </thead>\n",
       "  <tbody>\n",
       "    <tr>\n",
       "      <th>20</th>\n",
       "      <td>0.004155</td>\n",
       "      <td>-0.006855</td>\n",
       "      <td>0.006873</td>\n",
       "      <td>0.73</td>\n",
       "      <td>0.542</td>\n",
       "      <td>0.446</td>\n",
       "    </tr>\n",
       "    <tr>\n",
       "      <th>41</th>\n",
       "      <td>0.004155</td>\n",
       "      <td>-0.006855</td>\n",
       "      <td>0.006873</td>\n",
       "      <td>0.73</td>\n",
       "      <td>0.542</td>\n",
       "      <td>0.556</td>\n",
       "    </tr>\n",
       "    <tr>\n",
       "      <th>42</th>\n",
       "      <td>0.004155</td>\n",
       "      <td>-0.006855</td>\n",
       "      <td>0.006873</td>\n",
       "      <td>0.73</td>\n",
       "      <td>0.542</td>\n",
       "      <td>0.570</td>\n",
       "    </tr>\n",
       "    <tr>\n",
       "      <th>79</th>\n",
       "      <td>0.004155</td>\n",
       "      <td>-0.006855</td>\n",
       "      <td>0.006873</td>\n",
       "      <td>0.73</td>\n",
       "      <td>0.542</td>\n",
       "      <td>0.545</td>\n",
       "    </tr>\n",
       "    <tr>\n",
       "      <th>86</th>\n",
       "      <td>0.004155</td>\n",
       "      <td>-0.006855</td>\n",
       "      <td>0.006873</td>\n",
       "      <td>0.73</td>\n",
       "      <td>0.542</td>\n",
       "      <td>0.527</td>\n",
       "    </tr>\n",
       "    <tr>\n",
       "      <th>87</th>\n",
       "      <td>0.004155</td>\n",
       "      <td>-0.006855</td>\n",
       "      <td>0.006873</td>\n",
       "      <td>0.73</td>\n",
       "      <td>0.542</td>\n",
       "      <td>0.510</td>\n",
       "    </tr>\n",
       "    <tr>\n",
       "      <th>98</th>\n",
       "      <td>0.004155</td>\n",
       "      <td>-0.006855</td>\n",
       "      <td>0.006873</td>\n",
       "      <td>0.73</td>\n",
       "      <td>0.542</td>\n",
       "      <td>0.640</td>\n",
       "    </tr>\n",
       "  </tbody>\n",
       "</table>\n",
       "</div>"
      ],
      "text/plain": [
       "     flo_lng   flo_lat       flo   env  nv_meshint     nv\n",
       "20  0.004155 -0.006855  0.006873  0.73       0.542  0.446\n",
       "41  0.004155 -0.006855  0.006873  0.73       0.542  0.556\n",
       "42  0.004155 -0.006855  0.006873  0.73       0.542  0.570\n",
       "79  0.004155 -0.006855  0.006873  0.73       0.542  0.545\n",
       "86  0.004155 -0.006855  0.006873  0.73       0.542  0.527\n",
       "87  0.004155 -0.006855  0.006873  0.73       0.542  0.510\n",
       "98  0.004155 -0.006855  0.006873  0.73       0.542  0.640"
      ]
     },
     "execution_count": 152,
     "metadata": {},
     "output_type": "execute_result"
    }
   ],
   "source": [
    "start_date = \"201308150000\"\n",
    "end_date = \"201408010000\"\n",
    "\n",
    "date_range = utils.create_time_series_data(start_date,end_date)\n",
    "date = date_range[0]\n",
    "print(date)\n",
    "\n",
    "#呉先輩のデータ\n",
    "df = pd.read_csv(r\"H:\\study\\error_data\\kanto_parameter_lambda_0.019_iterate_1000_p3\\8月\\8月15日\\error_138157.0_0.02_0.019_1000_p3.csv\", encoding='shift-jis')\n",
    "\n",
    "#検証したいデータ群\n",
    "flo_lat,flo_lon = utils.get_flo_mesh(id_data,lat,lon,dt)\n",
    "mesh_data = utils.get_pred_interpolated_mesh(id_data,lat,lon,dt)\n",
    "\n",
    "train_dates = date_range[:30]\n",
    "interpolated_dir = \"H:\\study\\output\\StackingOpt\\EDA005\"\n",
    "X_train_interpolated, y_train_interpolated = utils.get_interpolated_mesh_data(interpolated_dir,train_dates)\n",
    "\n",
    "#処理\n",
    "id_lng_mesh , id_lat_mesh = id_data[\"id_lng_mesh\"].iloc[20], id_data[\"id_lat_mesh\"].iloc[20]\n",
    "\n",
    "row = lon.iloc[:, 0][lon.iloc[:, 0] == id_lng_mesh].index[0]\n",
    "col = lat.iloc[0,:][lat.iloc[0,:] == id_lat_mesh].index[0]\n",
    "\n",
    "df.loc[(df.id_lat_mesh==id_lat_mesh)&(df.id_lng_mesh==id_lng_mesh),[\"flo_lng\",\"flo_lat\",\"flo\",\"env\",\"nv_meshint\",\"nv\"]]\n"
   ]
  },
  {
   "cell_type": "code",
   "execution_count": 153,
   "metadata": {},
   "outputs": [
    {
     "name": "stdout",
     "output_type": "stream",
     "text": [
      "flo_lat\n"
     ]
    },
    {
     "data": {
      "text/html": [
       "<div>\n",
       "<style scoped>\n",
       "    .dataframe tbody tr th:only-of-type {\n",
       "        vertical-align: middle;\n",
       "    }\n",
       "\n",
       "    .dataframe tbody tr th {\n",
       "        vertical-align: top;\n",
       "    }\n",
       "\n",
       "    .dataframe thead th {\n",
       "        text-align: right;\n",
       "    }\n",
       "</style>\n",
       "<table border=\"1\" class=\"dataframe\">\n",
       "  <thead>\n",
       "    <tr style=\"text-align: right;\">\n",
       "      <th></th>\n",
       "      <th>227</th>\n",
       "    </tr>\n",
       "  </thead>\n",
       "  <tbody>\n",
       "    <tr>\n",
       "      <th>518</th>\n",
       "      <td>-0.342765</td>\n",
       "    </tr>\n",
       "  </tbody>\n",
       "</table>\n",
       "</div>"
      ],
      "text/plain": [
       "          227\n",
       "518 -0.342765"
      ]
     },
     "execution_count": 153,
     "metadata": {},
     "output_type": "execute_result"
    }
   ],
   "source": [
    "print(\"flo_lat\")\n",
    "flo_lat.iloc[(flo_lat.index==row),(flo_lat.columns==col)]"
   ]
  },
  {
   "cell_type": "code",
   "execution_count": 154,
   "metadata": {},
   "outputs": [
    {
     "name": "stdout",
     "output_type": "stream",
     "text": [
      "flo_lon\n"
     ]
    },
    {
     "data": {
      "text/html": [
       "<div>\n",
       "<style scoped>\n",
       "    .dataframe tbody tr th:only-of-type {\n",
       "        vertical-align: middle;\n",
       "    }\n",
       "\n",
       "    .dataframe tbody tr th {\n",
       "        vertical-align: top;\n",
       "    }\n",
       "\n",
       "    .dataframe thead th {\n",
       "        text-align: right;\n",
       "    }\n",
       "</style>\n",
       "<table border=\"1\" class=\"dataframe\">\n",
       "  <thead>\n",
       "    <tr style=\"text-align: right;\">\n",
       "      <th></th>\n",
       "      <th>227</th>\n",
       "    </tr>\n",
       "  </thead>\n",
       "  <tbody>\n",
       "    <tr>\n",
       "      <th>518</th>\n",
       "      <td>0.207729</td>\n",
       "    </tr>\n",
       "  </tbody>\n",
       "</table>\n",
       "</div>"
      ],
      "text/plain": [
       "          227\n",
       "518  0.207729"
      ]
     },
     "execution_count": 154,
     "metadata": {},
     "output_type": "execute_result"
    }
   ],
   "source": [
    "print(\"flo_lon\")\n",
    "flo_lon.iloc[(flo_lon.index==row),(flo_lon.columns==col)]"
   ]
  },
  {
   "cell_type": "code",
   "execution_count": 155,
   "metadata": {},
   "outputs": [
    {
     "name": "stdout",
     "output_type": "stream",
     "text": [
      "env\n"
     ]
    },
    {
     "data": {
      "text/html": [
       "<div>\n",
       "<style scoped>\n",
       "    .dataframe tbody tr th:only-of-type {\n",
       "        vertical-align: middle;\n",
       "    }\n",
       "\n",
       "    .dataframe tbody tr th {\n",
       "        vertical-align: top;\n",
       "    }\n",
       "\n",
       "    .dataframe thead th {\n",
       "        text-align: right;\n",
       "    }\n",
       "</style>\n",
       "<table border=\"1\" class=\"dataframe\">\n",
       "  <thead>\n",
       "    <tr style=\"text-align: right;\">\n",
       "      <th></th>\n",
       "      <th>227</th>\n",
       "    </tr>\n",
       "  </thead>\n",
       "  <tbody>\n",
       "    <tr>\n",
       "      <th>518</th>\n",
       "      <td>0.72957</td>\n",
       "    </tr>\n",
       "  </tbody>\n",
       "</table>\n",
       "</div>"
      ],
      "text/plain": [
       "         227\n",
       "518  0.72957"
      ]
     },
     "execution_count": 155,
     "metadata": {},
     "output_type": "execute_result"
    }
   ],
   "source": [
    "print(\"env\")\n",
    "mesh_data.iloc[(mesh_data.index==row),(mesh_data.columns==col)]"
   ]
  },
  {
   "cell_type": "code",
   "execution_count": 156,
   "metadata": {},
   "outputs": [
    {
     "data": {
      "text/plain": [
       "0.542"
      ]
     },
     "execution_count": 156,
     "metadata": {},
     "output_type": "execute_result"
    }
   ],
   "source": [
    "y_train_interpolated[0].reshape(flo_lat.shape[0],flo_lat.shape[1])[row-flo_lat.index.max()-1,col-flo_lat.columns.max()-1]"
   ]
  },
  {
   "cell_type": "code",
   "execution_count": 158,
   "metadata": {},
   "outputs": [
    {
     "data": {
      "text/plain": [
       "0     -2.057271e-03\n",
       "1     -3.986184e-04\n",
       "2     -2.954866e-04\n",
       "3     -1.848768e-03\n",
       "4     -7.179927e-07\n",
       "           ...     \n",
       "98    -1.143374e-03\n",
       "99    -1.224577e-04\n",
       "100   -6.267781e-04\n",
       "101   -4.560104e-04\n",
       "102   -4.560104e-04\n",
       "Length: 103, dtype: float64"
      ]
     },
     "execution_count": 158,
     "metadata": {},
     "output_type": "execute_result"
    }
   ],
   "source": [
    "df[\"flo\"] - np.sqrt((df[\"flo_lat\"]**2+df[\"flo_lng\"]**2)) "
   ]
  },
  {
   "cell_type": "code",
   "execution_count": 160,
   "metadata": {},
   "outputs": [
    {
     "data": {
      "text/plain": [
       "0.025525917781522366"
      ]
     },
     "execution_count": 160,
     "metadata": {},
     "output_type": "execute_result"
    }
   ],
   "source": [
    "np.abs(df[\"flo\"] - np.sqrt((df[\"flo_lat\"]**2+df[\"flo_lng\"]**2))).max()"
   ]
  },
  {
   "cell_type": "code",
   "execution_count": 162,
   "metadata": {},
   "outputs": [
    {
     "data": {
      "text/html": [
       "<div>\n",
       "<style scoped>\n",
       "    .dataframe tbody tr th:only-of-type {\n",
       "        vertical-align: middle;\n",
       "    }\n",
       "\n",
       "    .dataframe tbody tr th {\n",
       "        vertical-align: top;\n",
       "    }\n",
       "\n",
       "    .dataframe thead th {\n",
       "        text-align: right;\n",
       "    }\n",
       "</style>\n",
       "<table border=\"1\" class=\"dataframe\">\n",
       "  <thead>\n",
       "    <tr style=\"text-align: right;\">\n",
       "      <th></th>\n",
       "      <th>flo</th>\n",
       "    </tr>\n",
       "  </thead>\n",
       "  <tbody>\n",
       "    <tr>\n",
       "      <th>count</th>\n",
       "      <td>103.000000</td>\n",
       "    </tr>\n",
       "    <tr>\n",
       "      <th>mean</th>\n",
       "      <td>0.009646</td>\n",
       "    </tr>\n",
       "    <tr>\n",
       "      <th>std</th>\n",
       "      <td>0.004753</td>\n",
       "    </tr>\n",
       "    <tr>\n",
       "      <th>min</th>\n",
       "      <td>0.001676</td>\n",
       "    </tr>\n",
       "    <tr>\n",
       "      <th>25%</th>\n",
       "      <td>0.006845</td>\n",
       "    </tr>\n",
       "    <tr>\n",
       "      <th>50%</th>\n",
       "      <td>0.009017</td>\n",
       "    </tr>\n",
       "    <tr>\n",
       "      <th>75%</th>\n",
       "      <td>0.012911</td>\n",
       "    </tr>\n",
       "    <tr>\n",
       "      <th>max</th>\n",
       "      <td>0.021125</td>\n",
       "    </tr>\n",
       "  </tbody>\n",
       "</table>\n",
       "</div>"
      ],
      "text/plain": [
       "              flo\n",
       "count  103.000000\n",
       "mean     0.009646\n",
       "std      0.004753\n",
       "min      0.001676\n",
       "25%      0.006845\n",
       "50%      0.009017\n",
       "75%      0.012911\n",
       "max      0.021125"
      ]
     },
     "execution_count": 162,
     "metadata": {},
     "output_type": "execute_result"
    }
   ],
   "source": [
    "df[[\"flo\"]].describe()"
   ]
  },
  {
   "cell_type": "code",
   "execution_count": null,
   "metadata": {},
   "outputs": [],
   "source": []
  },
  {
   "cell_type": "code",
   "execution_count": null,
   "metadata": {},
   "outputs": [],
   "source": []
  },
  {
   "cell_type": "code",
   "execution_count": null,
   "metadata": {},
   "outputs": [],
   "source": []
  }
 ],
 "metadata": {
  "kernelspec": {
   "display_name": "base",
   "language": "python",
   "name": "python3"
  },
  "language_info": {
   "codemirror_mode": {
    "name": "ipython",
    "version": 3
   },
   "file_extension": ".py",
   "mimetype": "text/x-python",
   "name": "python",
   "nbconvert_exporter": "python",
   "pygments_lexer": "ipython3",
   "version": "3.11.3"
  },
  "orig_nbformat": 4
 },
 "nbformat": 4,
 "nbformat_minor": 2
}
