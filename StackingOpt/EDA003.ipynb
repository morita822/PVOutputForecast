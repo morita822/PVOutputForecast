{
 "cells": [
  {
   "attachments": {},
   "cell_type": "markdown",
   "metadata": {},
   "source": [
    "# EDA002をもとに予測精度を計算\n"
   ]
  },
  {
   "cell_type": "code",
   "execution_count": 485,
   "metadata": {},
   "outputs": [],
   "source": [
    "import os\n",
    "import pandas as pd\n",
    "import numpy as np\n",
    "from datetime import datetime\n",
    "import folium"
   ]
  },
  {
   "cell_type": "code",
   "execution_count": 486,
   "metadata": {},
   "outputs": [],
   "source": [
    "class CFG:\n",
    "    make_folder = False\n",
    "    note_num = \"StackingOpt/EDA003\"\n",
    "    seed = 42\n",
    "\n",
    "\n",
    "OUTPUT_DIR = f'H:/study/output/{CFG.note_num}/'\n",
    "\n",
    "if CFG.make_folder:\n",
    "    if not os.path.exists(OUTPUT_DIR):\n",
    "        os.makedirs(OUTPUT_DIR)\n"
   ]
  },
  {
   "cell_type": "code",
   "execution_count": 487,
   "metadata": {},
   "outputs": [],
   "source": [
    "unique_id = ['10000095', '10000269', '1020000002', '1110000001', '1110000010', '1110000011', '1110000012', '1110000013', '1110000014', '1110000015', '1160000025', '1160000090', '1160000091', '1160000182', '1160000185', '1160000253', '1160000387', '1160000402', '1160000419', '1160000420', '1160000423', '1270000026', '1280000048', '1550000001', '1650000004', '1680000001', '1680000002', '1680000003', '1680000004', '1680000010', '1680000017', '1680000021', '1680000033', '1680000047', '1680000054', '1680000057', '1680000063', '1680000067', '1680000080', '1680000081', '1680000097', '1680000107', '1680000108', '1680000112', '1680000151', '1680000152', '1680000213', '1680000216', '1680000217', '1680000218', '1680000223', '1680000228', '1680000285', '1680000287', '1680000327', '1680000364', '2220000001', '2220000002', '2220000003', '2730000001', '2910000002', '3000000007', '3000000012', '3000000042', '5000000044', '5000000045', '6000000016', '6000000017', '6060000016', '6060000017', '6060000018', '6170000016', '6170000123', '6170000124', '6170000125', '6620000065', '6620000066', '6620000088', '6620000089', '6620000111', '6620000117', '6620000118', '6620000121', '6620000122', '6620000123', '6620000124', '6620000131', '6620000132', '6910000180', '6910000198', '6910000200', '6910000206', '6910000216', '6910000217', '6910000239', '6910000240', '6910000249', '6910000250', '6910000421', '6910000424', '6910000425', '6910000469', '6910000470']\n",
    "unique_id = [int(i) for i in unique_id]\n",
    "to_unique_id = [str(num).zfill(10) for num in unique_id]"
   ]
  },
  {
   "attachments": {},
   "cell_type": "markdown",
   "metadata": {},
   "source": [
    "# preprocessing_data\\1_twoweeks_nv より"
   ]
  },
  {
   "cell_type": "code",
   "execution_count": 497,
   "metadata": {},
   "outputs": [],
   "source": [
    "df_list = []\n",
    "for id in to_unique_id:\n",
    "    path = f\"H:/study/preprocessing_data/1_twoweeks_nv/{id}.csv\"\n",
    "    df = pd.read_csv(path, header=None, index_col=None)\n",
    "    df.columns = [\"year\",\"month\",\"day\",\"hour\",\"flag\",\"nv\",\"two_weeks_max\"]\n",
    "    df[\"id\"] = int(id)\n",
    "    df_list.append(df)\n",
    "    \n",
    "df = pd.concat(df_list) \n",
    "df[\"year\"] += 2000\n",
    "df[\"minute\"] = df[\"hour\"]%1*60\n",
    "df[\"hour\"] = df[\"hour\"]//1\n",
    "df[[\"hour\",\"minute\"]] = df[[\"hour\",\"minute\"]].astype(int)\n",
    "df['datetime'] = pd.to_datetime(df[['year', 'month', 'day', 'hour', 'minute']])"
   ]
  },
  {
   "cell_type": "code",
   "execution_count": 552,
   "metadata": {},
   "outputs": [],
   "source": [
    "import utils\n",
    "\n",
    "df = utils.get_preprocessing_data(to_unique_id)\n",
    "\n"
   ]
  },
  {
   "attachments": {},
   "cell_type": "markdown",
   "metadata": {},
   "source": [
    "# prediction_data\\parameter_lambda_0.019_iterate_1000_p3\\env"
   ]
  },
  {
   "cell_type": "code",
   "execution_count": 490,
   "metadata": {},
   "outputs": [],
   "source": [
    "lat = pd.read_csv(r\"H:\\study\\preprocessing_data\\3_mesh_place\\lati_zenkoku.csv\", header=None, index_col=None)\n",
    "lon = pd.read_csv(r\"H:\\study\\preprocessing_data\\3_mesh_place\\long_zenkoku.csv\", header=None, index_col=None)\n",
    "id_all_data = pd.read_csv(r\"H:\\study\\preprocessing_data\\id_all_data.csv\", encoding=\"shift_jis\")\n",
    "id_data = id_all_data[id_all_data.id.isin(unique_id)].reset_index(drop=True)\n"
   ]
  },
  {
   "cell_type": "code",
   "execution_count": 538,
   "metadata": {},
   "outputs": [],
   "source": [
    "def get_prediction_data(id_data,lat,lon,dt):\n",
    "    path = f\"H:/study/prediction_data/parameter_lambda_0.019_iterate_1000_p3/env/{dt.month}月/{dt.month}月{dt.day}日/NV{dt.year%1000}{dt.month}{dt.day}{dt.hour}.{int(dt.minute/60*10)}_0.02_0.019_1000_p3_env.csv\"\n",
    "    df = pd.read_csv(path, header=None, index_col=None)\n",
    "\n",
    "    min_lat,max_lat = id_data.id_lat.min(),id_data.id_lat.max()\n",
    "    min_lng,max_lng = id_data.id_lng.min(),id_data.id_lng.max()\n",
    "    userow = (lon.iloc[:,0]>=min_lng)&(lon.iloc[:,0]<=max_lng)\n",
    "    usecol = (lat.iloc[0]>=min_lat)&(lat.iloc[0]<=max_lat)\n",
    "\n",
    "    df = df.loc[userow,usecol]\n",
    "    df = df.replace({ \" nan\": np.nan,\" -nan(ind)\":np.nan})\n",
    "    df = df.astype(float)\n",
    "\n",
    "    pred_data = pd.DataFrame(zip(df.to_numpy().reshape(-1),\\\n",
    "                            lat.loc[userow,usecol].to_numpy().reshape(-1),\\\n",
    "                            lon.loc[userow,usecol].to_numpy().reshape(-1)),\\\n",
    "                            columns=[\"pred\",\"id_lat_mesh\",\"id_lng_mesh\"])\n",
    "    pred_data[\"datetime\"] = dt\n",
    "    return df,pred_data\n",
    "\n"
   ]
  },
  {
   "cell_type": "code",
   "execution_count": 539,
   "metadata": {},
   "outputs": [],
   "source": [
    "import datetime\n",
    "\n",
    "start_date = datetime.datetime(2013, 8, 15, 6, 30)\n",
    "end_date = datetime.datetime(2014, 7, 31, 18, 0)\n",
    "# start_date = datetime.datetime(2014, 7, 1, 6, 30)\n",
    "# end_date = datetime.datetime(2014, 7, 31, 18, 0)\n",
    "\n",
    "delta = datetime.timedelta(minutes=30)\n",
    "\n",
    "date_range = []\n",
    "date = start_date\n",
    "while date <= end_date:\n",
    "    if date.hour > 6 and date.hour < 18:\n",
    "        date_range.append(date)\n",
    "    elif date.hour == 18 and date.minute == 0:\n",
    "        date_range.append(date)\n",
    "    elif date.hour == 6 and date.minute == 30:\n",
    "        date_range.append(date)\n",
    "    date += delta\n"
   ]
  },
  {
   "cell_type": "code",
   "execution_count": 540,
   "metadata": {},
   "outputs": [
    {
     "name": "stdout",
     "output_type": "stream",
     "text": [
      "0.0%_finish\n",
      "9.995251661918328%_finish\n",
      "19.990503323836656%_finish\n",
      "29.985754985754987%_finish\n",
      "39.98100664767331%_finish\n",
      "49.97625830959164%_finish\n",
      "59.971509971509974%_finish\n",
      "69.96676163342829%_finish\n",
      "79.96201329534662%_finish\n",
      "89.95726495726495%_finish\n",
      "99.95251661918329%_finish\n"
     ]
    }
   ],
   "source": [
    "df_list,pred_data_list = [],[]\n",
    "for i,dt in enumerate(date_range):\n",
    "    df,pred_data = get_prediction_data(id_data,lat,lon,dt)\n",
    "    df_list.append(df)\n",
    "    pred_data_list.append(pred_data)\n",
    "    if i%int(len(date_range)*0.1)==0:\n",
    "        print(f\"{i/len(date_range)*100}%_finish\")"
   ]
  },
  {
   "cell_type": "code",
   "execution_count": 541,
   "metadata": {},
   "outputs": [],
   "source": [
    "preds = pd.concat(pred_data_list).reset_index(drop=True)\n",
    "mesh_data_list = df_list.copy()"
   ]
  },
  {
   "attachments": {},
   "cell_type": "markdown",
   "metadata": {},
   "source": [
    "# 予測精度を比較"
   ]
  },
  {
   "cell_type": "code",
   "execution_count": 542,
   "metadata": {},
   "outputs": [],
   "source": [
    "df_list = []\n",
    "for id in to_unique_id:\n",
    "    path = f\"H:/study/preprocessing_data/1_twoweeks_nv/{id}.csv\"\n",
    "    df = pd.read_csv(path, header=None, index_col=None)\n",
    "    df.columns = [\"year\",\"month\",\"day\",\"hour\",\"flag\",\"nv\",\"two_weeks_max\"]\n",
    "    df[\"id\"] = int(id)\n",
    "    df_list.append(df)\n",
    "    \n",
    "df = pd.concat(df_list) \n",
    "\n",
    "df[\"year\"] += 2000\n",
    "df[\"minute\"] = df[\"hour\"]%1*60\n",
    "df[\"hour\"] = df[\"hour\"]//1\n",
    "df[[\"hour\",\"minute\"]] = df[[\"hour\",\"minute\"]].astype(int)\n",
    "df['datetime'] = pd.to_datetime(df[['year', 'month', 'day', 'hour', 'minute']])"
   ]
  },
  {
   "cell_type": "code",
   "execution_count": 543,
   "metadata": {},
   "outputs": [],
   "source": [
    "df = df.merge(id_data[[\"id\",\"id_lat_mesh\",\"id_lng_mesh\",\"pvrate\",\"observed_max\"]],on=[\"id\"],how=\"left\")\n",
    "df = df[df.datetime.isin(date_range)]\n",
    "df = df.merge(preds,on=[\"datetime\",\"id_lat_mesh\",\"id_lng_mesh\"],how=\"left\")\n",
    "\n",
    "df[\"pred*two_weeks_max\"] = df[\"pred\"]*df[\"two_weeks_max\"]\n",
    "df[\"nv*twoweeks_max\"] = df[\"nv\"]*df[\"two_weeks_max\"]"
   ]
  },
  {
   "cell_type": "code",
   "execution_count": 544,
   "metadata": {},
   "outputs": [],
   "source": [
    "df[\"APE\"] = np.abs(df[\"pred*two_weeks_max\"]-df[\"nv*twoweeks_max\"])/df[\"observed_max\"]*100"
   ]
  },
  {
   "cell_type": "code",
   "execution_count": 545,
   "metadata": {},
   "outputs": [
    {
     "data": {
      "text/plain": [
       "4.622661015944398"
      ]
     },
     "execution_count": 545,
     "metadata": {},
     "output_type": "execute_result"
    }
   ],
   "source": [
    "df[\"APE\"].mean()"
   ]
  },
  {
   "cell_type": "code",
   "execution_count": 547,
   "metadata": {},
   "outputs": [
    {
     "name": "stdout",
     "output_type": "stream",
     "text": [
      "1月 3.004600552943324\n",
      "\n",
      "2月 4.531547490686455\n",
      "\n",
      "3月 3.4208157122279808\n",
      "\n",
      "4月 4.661107656975637\n",
      "\n",
      "5月 5.445719045449569\n",
      "\n",
      "6月 6.36660266111151\n",
      "\n",
      "7月 6.4246202475227125\n",
      "\n",
      "8月 5.074576764676934\n",
      "\n",
      "9月 5.984355188662475\n",
      "\n",
      "10月 4.745663452336866\n",
      "\n",
      "11月 3.1692568426963574\n",
      "\n",
      "12月 2.7771447530777835\n",
      "\n"
     ]
    }
   ],
   "source": [
    "df[\"month\"] = df.datetime.dt.month\n",
    "for month,group in df.groupby(\"month\"):\n",
    "    print(f\"{month}月\",group[\"APE\"].mean() )\n",
    "    print()"
   ]
  },
  {
   "cell_type": "code",
   "execution_count": 555,
   "metadata": {},
   "outputs": [
    {
     "ename": "TypeError",
     "evalue": "get_prediction_data() takes 4 positional arguments but 5 were given",
     "output_type": "error",
     "traceback": [
      "\u001b[1;31m---------------------------------------------------------------------------\u001b[0m",
      "\u001b[1;31mTypeError\u001b[0m                                 Traceback (most recent call last)",
      "\u001b[1;32mh:\\study\\source\\hiroki\\study_230408\\StackingOpt\\EDA003.ipynb セル 20\u001b[0m in \u001b[0;36m<cell line: 13>\u001b[1;34m()\u001b[0m\n\u001b[0;32m     <a href='vscode-notebook-cell:/h%3A/study/source/hiroki/study_230408/StackingOpt/EDA003.ipynb#Y360sZmlsZQ%3D%3D?line=10'>11</a>\u001b[0m dt\u001b[39m=\u001b[39m datetime\u001b[39m.\u001b[39mdatetime(\u001b[39m2013\u001b[39m, \u001b[39m8\u001b[39m, \u001b[39m15\u001b[39m, \u001b[39m6\u001b[39m, \u001b[39m30\u001b[39m)\n\u001b[0;32m     <a href='vscode-notebook-cell:/h%3A/study/source/hiroki/study_230408/StackingOpt/EDA003.ipynb#Y360sZmlsZQ%3D%3D?line=11'>12</a>\u001b[0m folder_path \u001b[39m=\u001b[39m \u001b[39m\"\u001b[39m\u001b[39mH:/study/prediction_data/parameter_lambda_0.019_iterate_1000_p3/env/\u001b[39m\u001b[39m\"\u001b[39m\n\u001b[1;32m---> <a href='vscode-notebook-cell:/h%3A/study/source/hiroki/study_230408/StackingOpt/EDA003.ipynb#Y360sZmlsZQ%3D%3D?line=12'>13</a>\u001b[0m df,pred_data \u001b[39m=\u001b[39m utils\u001b[39m.\u001b[39;49mget_prediction_data(id_data,lat,lon,dt,folder_path)\n",
      "\u001b[1;31mTypeError\u001b[0m: get_prediction_data() takes 4 positional arguments but 5 were given"
     ]
    }
   ],
   "source": [
    "import utils\n",
    "\n",
    "lat = pd.read_csv(r\"H:\\study\\preprocessing_data\\3_mesh_place\\lati_zenkoku.csv\", header=None, index_col=None)\n",
    "lon = pd.read_csv(r\"H:\\study\\preprocessing_data\\3_mesh_place\\long_zenkoku.csv\", header=None, index_col=None)\n",
    "id_all_data = pd.read_csv(r\"H:\\study\\preprocessing_data\\id_all_data.csv\", encoding=\"shift_jis\")\n",
    "\n",
    "unique_id = ['10000095', '10000269', '1020000002', '1110000001', '1110000010', '1110000011', '1110000012', '1110000013', '1110000014', '1110000015', '1160000025', '1160000090', '1160000091', '1160000182', '1160000185', '1160000253', '1160000387', '1160000402', '1160000419', '1160000420', '1160000423', '1270000026', '1280000048', '1550000001', '1650000004', '1680000001', '1680000002', '1680000003', '1680000004', '1680000010', '1680000017', '1680000021', '1680000033', '1680000047', '1680000054', '1680000057', '1680000063', '1680000067', '1680000080', '1680000081', '1680000097', '1680000107', '1680000108', '1680000112', '1680000151', '1680000152', '1680000213', '1680000216', '1680000217', '1680000218', '1680000223', '1680000228', '1680000285', '1680000287', '1680000327', '1680000364', '2220000001', '2220000002', '2220000003', '2730000001', '2910000002', '3000000007', '3000000012', '3000000042', '5000000044', '5000000045', '6000000016', '6000000017', '6060000016', '6060000017', '6060000018', '6170000016', '6170000123', '6170000124', '6170000125', '6620000065', '6620000066', '6620000088', '6620000089', '6620000111', '6620000117', '6620000118', '6620000121', '6620000122', '6620000123', '6620000124', '6620000131', '6620000132', '6910000180', '6910000198', '6910000200', '6910000206', '6910000216', '6910000217', '6910000239', '6910000240', '6910000249', '6910000250', '6910000421', '6910000424', '6910000425', '6910000469', '6910000470']\n",
    "unique_id = [int(i) for i in unique_id]\n",
    "id_data = id_all_data[id_all_data.id.isin(unique_id)].reset_index(drop=True)\n",
    "\n",
    "dt= datetime.datetime(2013, 8, 15, 6, 30)\n",
    "folder_path = \"H:/study/prediction_data/parameter_lambda_0.019_iterate_1000_p3/env/\"\n",
    "df,pred_data = utils.get_prediction_data(id_data,lat,lon,dt,folder_path)"
   ]
  },
  {
   "cell_type": "code",
   "execution_count": null,
   "metadata": {},
   "outputs": [],
   "source": []
  }
 ],
 "metadata": {
  "kernelspec": {
   "display_name": "base",
   "language": "python",
   "name": "python3"
  },
  "language_info": {
   "codemirror_mode": {
    "name": "ipython",
    "version": 3
   },
   "file_extension": ".py",
   "mimetype": "text/x-python",
   "name": "python",
   "nbconvert_exporter": "python",
   "pygments_lexer": "ipython3",
   "version": "3.9.12"
  },
  "orig_nbformat": 4
 },
 "nbformat": 4,
 "nbformat_minor": 2
}
